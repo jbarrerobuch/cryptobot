{
 "cells": [
  {
   "cell_type": "markdown",
   "id": "8163280e",
   "metadata": {
    "pycharm": {
     "name": "#%% md\n"
    }
   },
   "source": [
    "# IMPORTS"
   ]
  },
  {
   "cell_type": "code",
   "execution_count": 1,
   "id": "6cd06700",
   "metadata": {
    "pycharm": {
     "name": "#%%\n"
    }
   },
   "outputs": [],
   "source": [
    "import ccxt\n",
    "import pandas as pd\n",
    "import time\n",
    "import datetime as dt\n",
    "from config import myconfig\n",
    "import os"
   ]
  },
  {
   "cell_type": "markdown",
   "id": "8a2503c0",
   "metadata": {
    "pycharm": {
     "name": "#%% md\n"
    }
   },
   "source": [
    "# INITIALIZE"
   ]
  },
  {
   "cell_type": "code",
   "execution_count": 2,
   "id": "c7f4b408",
   "metadata": {
    "pycharm": {
     "name": "#%%\n"
    }
   },
   "outputs": [],
   "source": [
    "exchange = ccxt.binance({\n",
    "    \"apiKey\": myconfig.API_KEY,\n",
    "    \"secret\": myconfig.API_SECRET\n",
    "})\n",
    "exchange.enableRateLimit = True"
   ]
  },
  {
   "cell_type": "markdown",
   "id": "dd36cb5a",
   "metadata": {
    "pycharm": {
     "name": "#%% md\n"
    }
   },
   "source": [
    "# GET MARKETS"
   ]
  },
  {
   "cell_type": "code",
   "execution_count": 3,
   "id": "56e96905",
   "metadata": {
    "pycharm": {
     "name": "#%%\n"
    }
   },
   "outputs": [],
   "source": [
    "markets = exchange.fetchMarkets()"
   ]
  },
  {
   "cell_type": "code",
   "execution_count": 4,
   "id": "6a117627",
   "metadata": {},
   "outputs": [
    {
     "data": {
      "text/plain": [
       "{'id': 'ETHBTC',\n",
       " 'lowercaseId': 'ethbtc',\n",
       " 'symbol': 'ETH/BTC',\n",
       " 'base': 'ETH',\n",
       " 'quote': 'BTC',\n",
       " 'settle': None,\n",
       " 'baseId': 'ETH',\n",
       " 'quoteId': 'BTC',\n",
       " 'settleId': None,\n",
       " 'type': 'spot',\n",
       " 'spot': True,\n",
       " 'margin': True,\n",
       " 'swap': False,\n",
       " 'future': False,\n",
       " 'delivery': False,\n",
       " 'option': False,\n",
       " 'active': True,\n",
       " 'contract': False,\n",
       " 'linear': None,\n",
       " 'inverse': None,\n",
       " 'taker': 0.001,\n",
       " 'maker': 0.001,\n",
       " 'contractSize': None,\n",
       " 'expiry': None,\n",
       " 'expiryDatetime': None,\n",
       " 'strike': None,\n",
       " 'optionType': None,\n",
       " 'precision': {'amount': 4, 'price': 6, 'base': 8, 'quote': 8},\n",
       " 'limits': {'leverage': {'min': None, 'max': None},\n",
       "  'amount': {'min': 0.0001, 'max': 100000.0},\n",
       "  'price': {'min': 1e-06, 'max': 922327.0},\n",
       "  'cost': {'min': 0.0001, 'max': None},\n",
       "  'market': {'min': 0.0, 'max': 2884.71857215}},\n",
       " 'info': {'symbol': 'ETHBTC',\n",
       "  'status': 'TRADING',\n",
       "  'baseAsset': 'ETH',\n",
       "  'baseAssetPrecision': '8',\n",
       "  'quoteAsset': 'BTC',\n",
       "  'quotePrecision': '8',\n",
       "  'quoteAssetPrecision': '8',\n",
       "  'baseCommissionPrecision': '8',\n",
       "  'quoteCommissionPrecision': '8',\n",
       "  'orderTypes': ['LIMIT',\n",
       "   'LIMIT_MAKER',\n",
       "   'MARKET',\n",
       "   'STOP_LOSS_LIMIT',\n",
       "   'TAKE_PROFIT_LIMIT'],\n",
       "  'icebergAllowed': True,\n",
       "  'ocoAllowed': True,\n",
       "  'quoteOrderQtyMarketAllowed': True,\n",
       "  'allowTrailingStop': False,\n",
       "  'isSpotTradingAllowed': True,\n",
       "  'isMarginTradingAllowed': True,\n",
       "  'filters': [{'filterType': 'PRICE_FILTER',\n",
       "    'minPrice': '0.00000100',\n",
       "    'maxPrice': '922327.00000000',\n",
       "    'tickSize': '0.00000100'},\n",
       "   {'filterType': 'PERCENT_PRICE',\n",
       "    'multiplierUp': '5',\n",
       "    'multiplierDown': '0.2',\n",
       "    'avgPriceMins': '5'},\n",
       "   {'filterType': 'LOT_SIZE',\n",
       "    'minQty': '0.00010000',\n",
       "    'maxQty': '100000.00000000',\n",
       "    'stepSize': '0.00010000'},\n",
       "   {'filterType': 'MIN_NOTIONAL',\n",
       "    'minNotional': '0.00010000',\n",
       "    'applyToMarket': True,\n",
       "    'avgPriceMins': '5'},\n",
       "   {'filterType': 'ICEBERG_PARTS', 'limit': '10'},\n",
       "   {'filterType': 'MARKET_LOT_SIZE',\n",
       "    'minQty': '0.00000000',\n",
       "    'maxQty': '2884.71857215',\n",
       "    'stepSize': '0.00000000'},\n",
       "   {'filterType': 'TRAILING_DELTA',\n",
       "    'minTrailingAboveDelta': '10',\n",
       "    'maxTrailingAboveDelta': '2000',\n",
       "    'minTrailingBelowDelta': '10',\n",
       "    'maxTrailingBelowDelta': '2000'},\n",
       "   {'filterType': 'MAX_NUM_ORDERS', 'maxNumOrders': '200'},\n",
       "   {'filterType': 'MAX_NUM_ALGO_ORDERS', 'maxNumAlgoOrders': '5'}],\n",
       "  'permissions': ['SPOT', 'MARGIN']}}"
      ]
     },
     "execution_count": 4,
     "metadata": {},
     "output_type": "execute_result"
    }
   ],
   "source": [
    "markets[0]"
   ]
  },
  {
   "cell_type": "markdown",
   "id": "899de352",
   "metadata": {},
   "source": [
    "# Load markets in a data frame  \n",
    "  \n",
    "Filter out inactive markets"
   ]
  },
  {
   "cell_type": "code",
   "execution_count": 35,
   "id": "23d942c8",
   "metadata": {
    "pycharm": {
     "name": "#%%\n"
    }
   },
   "outputs": [],
   "source": [
    "markets_df = pd.DataFrame.from_dict(markets)\n",
    "markets_df =  markets_df.loc[markets_df['active'] == True] # Drop inactive markets\n",
    "markets_df.set_index('symbol', verify_integrity= True, inplace= True,drop= False)"
   ]
  },
  {
   "cell_type": "code",
   "execution_count": 47,
   "id": "3151a880",
   "metadata": {},
   "outputs": [],
   "source": [
    "# Get only spot markets\n",
    "spot_market = markets_df[markets_df.type == 'spot']"
   ]
  },
  {
   "cell_type": "code",
   "execution_count": 48,
   "id": "17fc82eb",
   "metadata": {
    "pycharm": {
     "name": "#%%\n"
    }
   },
   "outputs": [
    {
     "data": {
      "text/html": [
       "<div>\n",
       "<style scoped>\n",
       "    .dataframe tbody tr th:only-of-type {\n",
       "        vertical-align: middle;\n",
       "    }\n",
       "\n",
       "    .dataframe tbody tr th {\n",
       "        vertical-align: top;\n",
       "    }\n",
       "\n",
       "    .dataframe thead th {\n",
       "        text-align: right;\n",
       "    }\n",
       "</style>\n",
       "<table border=\"1\" class=\"dataframe\">\n",
       "  <thead>\n",
       "    <tr style=\"text-align: right;\">\n",
       "      <th></th>\n",
       "      <th>id</th>\n",
       "      <th>symbol</th>\n",
       "      <th>base</th>\n",
       "      <th>quote</th>\n",
       "      <th>type</th>\n",
       "      <th>spot</th>\n",
       "      <th>active</th>\n",
       "      <th>taker</th>\n",
       "      <th>maker</th>\n",
       "      <th>baseAssetPrecision</th>\n",
       "      <th>quotePrecision</th>\n",
       "      <th>quoteAssetPrecision</th>\n",
       "      <th>baseCommissionPrecision</th>\n",
       "      <th>quoteCommissionPrecision</th>\n",
       "      <th>amount_min</th>\n",
       "      <th>amount_max</th>\n",
       "      <th>cost_min</th>\n",
       "      <th>cost_max</th>\n",
       "    </tr>\n",
       "    <tr>\n",
       "      <th>symbol</th>\n",
       "      <th></th>\n",
       "      <th></th>\n",
       "      <th></th>\n",
       "      <th></th>\n",
       "      <th></th>\n",
       "      <th></th>\n",
       "      <th></th>\n",
       "      <th></th>\n",
       "      <th></th>\n",
       "      <th></th>\n",
       "      <th></th>\n",
       "      <th></th>\n",
       "      <th></th>\n",
       "      <th></th>\n",
       "      <th></th>\n",
       "      <th></th>\n",
       "      <th></th>\n",
       "      <th></th>\n",
       "    </tr>\n",
       "  </thead>\n",
       "  <tbody>\n",
       "    <tr>\n",
       "      <th>BTC/USDT</th>\n",
       "      <td>BTCUSDT</td>\n",
       "      <td>BTC/USDT</td>\n",
       "      <td>BTC</td>\n",
       "      <td>USDT</td>\n",
       "      <td>spot</td>\n",
       "      <td>True</td>\n",
       "      <td>True</td>\n",
       "      <td>0.001</td>\n",
       "      <td>0.001</td>\n",
       "      <td>8</td>\n",
       "      <td>8</td>\n",
       "      <td>8</td>\n",
       "      <td>8</td>\n",
       "      <td>8</td>\n",
       "      <td>0.00001</td>\n",
       "      <td>9000.0</td>\n",
       "      <td>10.0</td>\n",
       "      <td>NaN</td>\n",
       "    </tr>\n",
       "  </tbody>\n",
       "</table>\n",
       "</div>"
      ],
      "text/plain": [
       "               id    symbol base quote  type  spot  active  taker  maker  \\\n",
       "symbol                                                                     \n",
       "BTC/USDT  BTCUSDT  BTC/USDT  BTC  USDT  spot  True    True  0.001  0.001   \n",
       "\n",
       "         baseAssetPrecision quotePrecision quoteAssetPrecision  \\\n",
       "symbol                                                           \n",
       "BTC/USDT                  8              8                   8   \n",
       "\n",
       "         baseCommissionPrecision quoteCommissionPrecision  amount_min  \\\n",
       "symbol                                                                  \n",
       "BTC/USDT                       8                        8     0.00001   \n",
       "\n",
       "          amount_max  cost_min  cost_max  \n",
       "symbol                                    \n",
       "BTC/USDT      9000.0      10.0       NaN  "
      ]
     },
     "execution_count": 48,
     "metadata": {},
     "output_type": "execute_result"
    }
   ],
   "source": [
    "# Extrac decimal precision of markets\n",
    "info_df = spot_market['info'].apply(pd.Series).drop(columns=[\n",
    "    'symbol',\n",
    "    'status',\n",
    "    'baseAsset',\n",
    "    'quoteAsset',\n",
    "    'orderTypes',\n",
    "    'icebergAllowed',\n",
    "    'ocoAllowed',\n",
    "    'quoteOrderQtyMarketAllowed',\n",
    "    'allowTrailingStop',\n",
    "    'isSpotTradingAllowed',\n",
    "    'isMarginTradingAllowed',\n",
    "    'filters',\n",
    "    'permissions'\n",
    "])\n",
    "\n",
    "# Extract amount limits\n",
    "amounts_df = spot_market['limits'].apply(pd.Series)['amount'].apply(pd.Series)\n",
    "amounts_df.rename(columns={'min':'amount_min', 'max':'amount_max'}, inplace= True)\n",
    "\n",
    "# Extract cost limits\n",
    "cost_df = spot_market['limits'].apply(pd.Series)['cost'].apply(pd.Series)\n",
    "cost_df.rename(columns={'min': 'cost_min', 'max': 'cost_max'}, inplace= True)\n",
    "\n",
    "spot_market.drop(columns=[\n",
    "    'delivery', 'option', 'contract', 'linear',\n",
    "    'inverse', 'contractSize', 'expiry',\n",
    "    'expiryDatetime', 'margin', 'swap', 'future', 'strike',\n",
    "    'optionType', 'precision', 'limits', 'info', 'settleId', 'settle', 'baseId', 'quoteId', 'lowercaseId'], inplace=True)\n",
    "spot_market = pd.concat([spot_market, info_df, amounts_df, cost_df], axis=1)\n",
    "\n",
    "spot_market[spot_market['symbol'].str.contains('BTC/USDT')]"
   ]
  },
  {
   "cell_type": "code",
   "execution_count": 7,
   "id": "e008dc2e",
   "metadata": {
    "pycharm": {
     "name": "#%%\n"
    }
   },
   "outputs": [
    {
     "name": "stdout",
     "output_type": "stream",
     "text": [
      "Total spot symbols 1450\n"
     ]
    }
   ],
   "source": [
    "spot_symbols = list(spot_market.symbol)\n",
    "print('Total spot symbols',len(spot_symbols))"
   ]
  },
  {
   "cell_type": "markdown",
   "id": "05093ee2",
   "metadata": {
    "pycharm": {
     "name": "#%% md\n"
    }
   },
   "source": [
    "# STEP 1: GET ALL THE CRYPTO COMBINATIONS FOR USDT"
   ]
  },
  {
   "cell_type": "code",
   "execution_count": 8,
   "id": "2ce8ac7c",
   "metadata": {
    "pycharm": {
     "name": "#%%\n"
    }
   },
   "outputs": [],
   "source": [
    "def get_crypto_combinations(market_symbols, base):\n",
    "    combinations = []\n",
    "    for sym1 in market_symbols:\n",
    "        \n",
    "        sym1_token1 = sym1.split('/')[0]\n",
    "        sym1_token2 = sym1.split('/')[1]\n",
    "        \n",
    "        if (sym1_token2 == base):\n",
    "            for sym2 in market_symbols:\n",
    "                sym2_token1 = sym2.split('/')[0]\n",
    "                sym2_token2 = sym2.split('/')[1]\n",
    "                if (sym1_token1 == sym2_token2):\n",
    "                    for sym3 in market_symbols:\n",
    "                        sym3_token1 = sym3.split('/')[0]\n",
    "                        sym3_token2 = sym3.split('/')[1]\n",
    "                        if((sym2_token1 == sym3_token1) and (sym3_token2 == sym1_token2)):\n",
    "                            combination = {\n",
    "                                'base':sym1_token2,\n",
    "                                'intermediate':sym1_token1,\n",
    "                                'ticker':sym2_token1,\n",
    "                            }\n",
    "                            combinations.append(combination)\n",
    "                \n",
    "\n",
    "    return combinations\n",
    "        \n",
    "wx_combinations_usdt = get_crypto_combinations(spot_symbols,'USDT')\n",
    "#combinations_bnb = get_crypto_combinations(spot_market,'BUSD')\n"
   ]
  },
  {
   "cell_type": "code",
   "execution_count": 9,
   "id": "59458297",
   "metadata": {
    "pycharm": {
     "name": "#%%\n"
    }
   },
   "outputs": [
    {
     "name": "stdout",
     "output_type": "stream",
     "text": [
      "No. of USDT combinations: 906\n"
     ]
    },
    {
     "data": {
      "text/html": [
       "<div>\n",
       "<style scoped>\n",
       "    .dataframe tbody tr th:only-of-type {\n",
       "        vertical-align: middle;\n",
       "    }\n",
       "\n",
       "    .dataframe tbody tr th {\n",
       "        vertical-align: top;\n",
       "    }\n",
       "\n",
       "    .dataframe thead th {\n",
       "        text-align: right;\n",
       "    }\n",
       "</style>\n",
       "<table border=\"1\" class=\"dataframe\">\n",
       "  <thead>\n",
       "    <tr style=\"text-align: right;\">\n",
       "      <th></th>\n",
       "      <th>base</th>\n",
       "      <th>intermediate</th>\n",
       "      <th>ticker</th>\n",
       "    </tr>\n",
       "  </thead>\n",
       "  <tbody>\n",
       "    <tr>\n",
       "      <th>0</th>\n",
       "      <td>USDT</td>\n",
       "      <td>BTC</td>\n",
       "      <td>ETH</td>\n",
       "    </tr>\n",
       "    <tr>\n",
       "      <th>1</th>\n",
       "      <td>USDT</td>\n",
       "      <td>BTC</td>\n",
       "      <td>LTC</td>\n",
       "    </tr>\n",
       "    <tr>\n",
       "      <th>2</th>\n",
       "      <td>USDT</td>\n",
       "      <td>BTC</td>\n",
       "      <td>BNB</td>\n",
       "    </tr>\n",
       "    <tr>\n",
       "      <th>3</th>\n",
       "      <td>USDT</td>\n",
       "      <td>BTC</td>\n",
       "      <td>NEO</td>\n",
       "    </tr>\n",
       "    <tr>\n",
       "      <th>4</th>\n",
       "      <td>USDT</td>\n",
       "      <td>BTC</td>\n",
       "      <td>WTC</td>\n",
       "    </tr>\n",
       "  </tbody>\n",
       "</table>\n",
       "</div>"
      ],
      "text/plain": [
       "   base intermediate ticker\n",
       "0  USDT          BTC    ETH\n",
       "1  USDT          BTC    LTC\n",
       "2  USDT          BTC    BNB\n",
       "3  USDT          BTC    NEO\n",
       "4  USDT          BTC    WTC"
      ]
     },
     "execution_count": 9,
     "metadata": {},
     "output_type": "execute_result"
    }
   ],
   "source": [
    "print(f'No. of USDT combinations: {len(wx_combinations_usdt)}')\n",
    "#print(f'No. of BNB combinations: {len(combinations_bnb)}')\n",
    "\n",
    "cominations_df = pd.DataFrame(wx_combinations_usdt)\n",
    "cominations_df.head()"
   ]
  },
  {
   "cell_type": "markdown",
   "id": "0af31255",
   "metadata": {
    "pycharm": {
     "name": "#%% md\n"
    }
   },
   "source": [
    "# STEP 2: PERFORM TRIANGULAR ARBITRAGE"
   ]
  },
  {
   "cell_type": "markdown",
   "id": "cc826251",
   "metadata": {
    "pycharm": {
     "name": "#%% md\n"
    }
   },
   "source": [
    "## Utility method to fetch the current ticker price"
   ]
  },
  {
   "cell_type": "code",
   "execution_count": 10,
   "id": "79446407",
   "metadata": {
    "pycharm": {
     "name": "#%%\n"
    }
   },
   "outputs": [
    {
     "data": {
      "text/plain": [
       "{'ETH/USDT': {'symbol': 'ETH/USDT',\n",
       "  'timestamp': None,\n",
       "  'datetime': None,\n",
       "  'high': None,\n",
       "  'low': None,\n",
       "  'bid': 2015.3,\n",
       "  'bidVolume': 3.9884,\n",
       "  'ask': 2015.31,\n",
       "  'askVolume': 10.0821,\n",
       "  'vwap': None,\n",
       "  'open': None,\n",
       "  'close': None,\n",
       "  'last': None,\n",
       "  'previousClose': None,\n",
       "  'change': None,\n",
       "  'percentage': None,\n",
       "  'average': None,\n",
       "  'baseVolume': None,\n",
       "  'quoteVolume': None,\n",
       "  'info': {'symbol': 'ETHUSDT',\n",
       "   'bidPrice': '2015.30000000',\n",
       "   'bidQty': '3.98840000',\n",
       "   'askPrice': '2015.31000000',\n",
       "   'askQty': '10.08210000'}}}"
      ]
     },
     "execution_count": 10,
     "metadata": {},
     "output_type": "execute_result"
    }
   ],
   "source": [
    "def fetch_current_ticker_price(tickerList, limiters= True):\n",
    "    bidAsk = exchange.fetch_bids_asks(symbols= tickerList)\n",
    "\n",
    "#    # add 1 to limit counters\n",
    "#    if limiters:\n",
    "#        requestPer10sec['requests'] += 1\n",
    "#        requestPerMin['requests'] += 1\n",
    "#        requestPer24h['requests'] += 1\n",
    "#\n",
    "    #if operation == 'buy':\n",
    "    #    return (bidAsk[ticker]['ask'], bidAsk[ticker]['askVolume'])\n",
    "    #else:\n",
    "    #    return (bidAsk[ticker]['bid'], bidAsk[ticker]['bidVolume'])\n",
    "    return bidAsk\n",
    "\n",
    "fetch_current_ticker_price('ETH/USDT', limiters= False)"
   ]
  },
  {
   "cell_type": "markdown",
   "id": "f270fc12",
   "metadata": {
    "pycharm": {
     "name": "#%% md\n"
    }
   },
   "source": [
    "## Triangular Arbitrage"
   ]
  },
  {
   "cell_type": "code",
   "execution_count": 12,
   "id": "fb64f406",
   "metadata": {
    "pycharm": {
     "name": "#%%\n"
    }
   },
   "outputs": [],
   "source": [
    "def check_buy_buy_sell(scrip1, scrip2, scrip3, investment_max_limit = 100):\n",
    "    if verbose == True: print('Checking buy_buy_sell')\n",
    "    fullfetch = fetch_current_ticker_price([scrip1, scrip2, scrip3])\n",
    "    if verbose in [True]:\n",
    "        print(f'{scrip1}: {fullfetch[scrip1][\"bid\"]}/{fullfetch[scrip1][\"bidVolume\"]} - {fullfetch[scrip1][\"ask\"]}/{fullfetch[scrip1][\"askVolume\"]}')\n",
    "        print(f'{scrip2}: {fullfetch[scrip2][\"bid\"]}/{fullfetch[scrip2][\"bidVolume\"]} - {fullfetch[scrip2][\"ask\"]}/{fullfetch[scrip2][\"askVolume\"]}')\n",
    "        print(f'{scrip3}: {fullfetch[scrip3][\"bid\"]}/{fullfetch[scrip3][\"bidVolume\"]} - {fullfetch[scrip3][\"ask\"]}/{fullfetch[scrip3][\"askVolume\"]}')\n",
    "\n",
    "    # Vol analysis for OP size and PNL\n",
    "    vol1 = float(exchange.amount_to_precision(scrip1,fullfetch[scrip1]['ask']*fullfetch[scrip1]['askVolume']))\n",
    "    vol2 = float(exchange.amount_to_precision(scrip2,fullfetch[scrip2]['ask']*fullfetch[scrip2]['askVolume']))\n",
    "    vol3 = float(exchange.amount_to_precision(scrip3,fullfetch[scrip3]['bid']*fullfetch[scrip3]['bidVolume']))\n",
    "    min1 = spot_market.loc[scrip1]['amount_min']\n",
    "    min2 = spot_market.loc[scrip2]['amount_min']\n",
    "    min3 = spot_market.loc[scrip3]['amount_min']\n",
    "\n",
    "    if verbose: print(f'Max inv: {investment_max_limit}')\n",
    "    if (vol1 == 0) or (vol2 == 0) or (vol3 == 0):\n",
    "        if verbose: print('Vol of any OP is 0, skip OP')\n",
    "        return None\n",
    "\n",
    "    #Check volume of asset 1 is greater than investment limit\n",
    "    if (investment_max_limit > vol1) and (vol1 > min1):\n",
    "        amount1 = vol1\n",
    "        if verbose: print(f'Amount higher than vol1, to buy {amount1}')\n",
    "    elif vol1 < min1:\n",
    "        if verbose: print(f'Vol1 lower than min {vol1}')\n",
    "        return None\n",
    "    else:\n",
    "        amount1 = investment_max_limit\n",
    "        if verbose: print(f'Amount covered by Vol1, to buy {amount1}')\n",
    "\n",
    "    # Return of Trade 1 minus fee is invested in trade 2 as amount2\n",
    "    rtn = amount1/fullfetch[scrip1]['ask']                                                    # Gross return trade 1\n",
    "    fee = rtn*spot_market.loc[scrip1]['taker']                                                # Fee cost trade 1\n",
    "    amount2 = float(exchange.amount_to_precision(scrip1, rtn - fee))                                 # Net return Trade 1 BUY is amount for trade 2\n",
    "    if verbose in [True, 'trade']: print(f'Return1 {rtn}, fee1 {fee}, Amount2 {amount2}')\n",
    "\n",
    "    # Check volume available in trade 2\n",
    "    if (amount2 > vol2) and (vol2 > min2):                                                    # If amount2 is greater than vol available\n",
    "        amount2 = vol2  # amount2 = rtn1 - fee1                                               # Set amount2 = to vol available\n",
    "        amount1 = float(exchange.amount_to_precision(scrip1, amount2 * fullfetch[scrip1]['ask']*(1+spot_market.loc[scrip1]['taker']))) # Gross return for trade 1 to match vol in trade 2 \n",
    "        if verbose: print(f'Max amount2 reached to buy {amount2}, amount1 {amount1}')\n",
    "    elif vol2 < min2:\n",
    "        if verbose: print(f'Vol2 lower than min {vol2}')\n",
    "        return None\n",
    "    else:\n",
    "        if verbose: print(f'Amount covered by Vol2, to buy {amount2}')\n",
    "\n",
    "    # Return of trade 2 is invested (amount3) in trade 2\n",
    "    rtn = amount2/fullfetch[scrip2]['ask']                                                    # Gross return trade 2\n",
    "    fee = rtn*spot_market.loc[scrip2]['taker']                                                # Fee cost trade 2\n",
    "    amount3 = float(exchange.amount_to_precision(scrip2, rtn - fee))                                # Net return Trade 2 BUY is amount for trade 3\n",
    "    if verbose in [True, 'trade']: print(f'Return2 {rtn}, fee2 {fee}, Amount3 {amount3}')\n",
    "\n",
    "    #Check volume of asset 3 is greater than investment limit\n",
    "    if verbose: print(f'amount3 to sell {amount3}')\n",
    "    if (amount3 > vol3) and (vol3 > min3):\n",
    "        amount3 = vol3\n",
    "        amount2 = float(exchange.amount_to_precision(scrip2, amount3 * fullfetch[scrip2]['ask']*(1+spot_market.loc[scrip2]['taker'])))  #Reverse conversion, add comission.\n",
    "        amount1 = float(exchange.amount_to_precision(scrip1, amount2 * fullfetch[scrip1]['ask']*(1+spot_market.loc[scrip1]['taker'])))  #Reverse conversion, add comission.\n",
    "        if verbose: print(f'Max amount3 reached to sell {amount3}, amount2 {amount2}, amount1 {amount1}')\n",
    "    elif vol3 < min3:\n",
    "        if verbose: print(f'Vol3 lower than min {vol3}')\n",
    "        return None\n",
    "\n",
    "    rtn = amount3*fullfetch[scrip3]['bid']                                                    # Gross return trade 3\n",
    "    fee = rtn*spot_market.loc[scrip3]['taker']                                                # Fee cost trade 3\n",
    "    OP_return = float(exchange.amount_to_precision(scrip1, rtn - fee))                               # Net return Trade 3 SELL is gross return from the OP\n",
    "    if verbose in [True, 'trade']: print(f'Return3 {rtn}, fee3 {fee}, OP Return {OP_return}')\n",
    "\n",
    "    scrip_prices = {scrip1 : fullfetch[scrip1][\"ask\"], scrip2 : fullfetch[scrip2]['ask'], scrip3 : fullfetch[scrip3]['bid']}\n",
    "    scrip_amounts = {scrip1: amount1, scrip2: amount2, scrip3: amount3}\n",
    "\n",
    "    return OP_return, scrip_prices, scrip_amounts\n",
    "\n",
    "def check_buy_sell_sell(scrip1, scrip2, scrip3, investment_max_limit = 100):\n",
    "    if verbose == True: print('Checking buy_sell_sell')    \n",
    "    fullfetch = fetch_current_ticker_price([scrip1, scrip2, scrip3])\n",
    "    if verbose == True:\n",
    "        print(f'{scrip1}: {fullfetch[scrip1][\"bid\"]}/{fullfetch[scrip1][\"bidVolume\"]} - {fullfetch[scrip1][\"ask\"]}/{fullfetch[scrip1][\"askVolume\"]}')\n",
    "        print(f'{scrip2}: {fullfetch[scrip2][\"bid\"]}/{fullfetch[scrip2][\"bidVolume\"]} - {fullfetch[scrip2][\"ask\"]}/{fullfetch[scrip2][\"askVolume\"]}')\n",
    "        print(f'{scrip3}: {fullfetch[scrip3][\"bid\"]}/{fullfetch[scrip3][\"bidVolume\"]} - {fullfetch[scrip3][\"ask\"]}/{fullfetch[scrip3][\"askVolume\"]}')\n",
    "\n",
    "    # Vol analysis for OP size and PNL\n",
    "    vol1 = float(exchange.amount_to_precision(scrip1,fullfetch[scrip1]['ask']*fullfetch[scrip1]['bidVolume']))\n",
    "    vol2 = float(exchange.amount_to_precision(scrip2,fullfetch[scrip2]['bid']*fullfetch[scrip2]['bidVolume']))\n",
    "    vol3 = float(exchange.amount_to_precision(scrip3,fullfetch[scrip3]['bid']*fullfetch[scrip3]['askVolume']))\n",
    "    min1 = spot_market.loc[scrip1]['amount_min']\n",
    "    min2 = spot_market.loc[scrip2]['amount_min']\n",
    "    min3 = spot_market.loc[scrip3]['amount_min']\n",
    "\n",
    "    if verbose: print(f'Max inv: {investment_max_limit}')\n",
    "    if (vol1 == 0) or (vol2 == 0) or (vol3 == 0):\n",
    "        if verbose: print('Vol of any OP is 0, skip OP')\n",
    "        return None\n",
    "\n",
    "    #Check volume of asset 1 is greater than investment limit\n",
    "    if (investment_max_limit > vol1) and (vol1 > min1):\n",
    "        amount1 = vol1\n",
    "        if verbose: print(f'Amount higher than vol1, to buy {amount1}')\n",
    "    elif vol1 < min1:\n",
    "        if verbose: print(f'Vol1 lower than min {vol1}')\n",
    "        return None\n",
    "    else:\n",
    "        amount1 = investment_max_limit\n",
    "        if verbose: print(f'Amount covered by Vol1, to buy {amount1}')\n",
    "\n",
    "    # Return of Trade 1 is invested (amount2) in trade 2\n",
    "    rtn = amount1/fullfetch[scrip1]['ask']                                                  # Gross return trade 1\n",
    "    fee = rtn*spot_market.loc[scrip1]['taker']                                              # Fee cost trade 1\n",
    "    amount2 = float(exchange.amount_to_precision(scrip2, rtn - fee))                        # Net return Trade 1 BUY is amount for trade 2\n",
    "    if verbose in [True]: print(f'Return1 {rtn}, fee1 {fee}, Amount2 {amount2}')\n",
    "\n",
    "    # Check volume available in trade 2\n",
    "    if (amount2 > vol2) and (vol2 > min2):\n",
    "        amount2 = vol2\n",
    "        amount1 = float(exchange.amount_to_precision(scrip1, amount2 * fullfetch[scrip1]['bid'] * (1+spot_market.loc[scrip1]['taker']))) #Reverse conversion, add comission.\n",
    "        if verbose: print(f'Max amount2 reached to sell {amount2}, amount1 {amount1}')\n",
    "    elif vol2 < min2:\n",
    "        if verbose: print(f'Vol2 lower than min {vol2}')\n",
    "        return None\n",
    "    else:\n",
    "        if verbose: print(f'Amount covered by Vol2, to buy {amount2}')\n",
    "\n",
    "    # Return of trade 2 is invested (amount3) in trade 2\n",
    "    rtn = amount2*fullfetch[scrip2]['ask']                                                    # Gross return trade 2\n",
    "    fee = rtn*spot_market.loc[scrip2]['taker']                                                # Fee cost trade 2\n",
    "    amount3 = float(exchange.amount_to_precision(scrip2, rtn - fee))                          # Net return Trade 2 BUY is amount for trade 3\n",
    "    if verbose in [True, 'trade']: print(f'Return2 {rtn}, fee2 {fee}, Amount3 {amount3}')\n",
    "\n",
    "    #Check volume of asset 3 is greater than investment limit\n",
    "    if verbose: print(f'amount3 to sell {amount3}')\n",
    "    if (amount3 > vol3) and (vol3 > min3):\n",
    "        amount3 = vol3\n",
    "        amount2 = float(exchange.amount_to_precision(scrip2, (amount3 / fullfetch[scrip2]['ask']) * (1+spot_market.loc[scrip2]['taker']))) #Reverse conversion, add comission.\n",
    "        amount1 = float(exchange.amount_to_precision(scrip1, (amount2 / fullfetch[scrip1]['ask']) * (1+spot_market.loc[scrip1]['taker']))) #Reverse conversion, add comission.\n",
    "        if verbose: print(f'Max amount3 reached to sell {amount3}, amount2 {amount2}, amount1 {amount1}')\n",
    "    elif vol3 < min3:\n",
    "        if verbose: print(f'Vol3 lower than min {vol3}')\n",
    "        return None\n",
    "    \n",
    "    rtn = amount3*fullfetch[scrip3]['bid']                                                    # Gross return trade 3\n",
    "    fee = rtn*spot_market.loc[scrip3]['taker']                                                # Fee cost trade 3\n",
    "    OP_return = float(exchange.amount_to_precision(scrip1, rtn - fee))                               # Net return Trade 3 SELL is gross return from the OP\n",
    "    if verbose in [True, 'trade']: print(f'Return3 {rtn}, fee3 {fee}, OP Return {OP_return}')\n",
    "\n",
    "    scrip_prices = {scrip1 : fullfetch[scrip1][\"ask\"], scrip2 : fullfetch[scrip2]['bid'], scrip3 : fullfetch[scrip3]['bid']}\n",
    "    scrip_amounts = {scrip1: amount1, scrip2: amount2, scrip3: amount3}\n",
    "\n",
    "    return OP_return, scrip_prices, scrip_amounts"
   ]
  },
  {
   "cell_type": "code",
   "execution_count": 13,
   "id": "411473ed",
   "metadata": {
    "pycharm": {
     "name": "#%%\n"
    }
   },
   "outputs": [],
   "source": [
    "def check_profit_loss(OP_return, initial_investment, min_profit):\n",
    "    min_profitable_price = initial_investment * 1 + min_profit\n",
    "    profit = (OP_return >= min_profitable_price)\n",
    "    return profit"
   ]
  },
  {
   "cell_type": "markdown",
   "id": "1c29dfc6",
   "metadata": {
    "pycharm": {
     "name": "#%% md\n"
    }
   },
   "source": [
    "# STEP 3: PLACE THE TRADE ORDERS"
   ]
  },
  {
   "cell_type": "code",
   "execution_count": 14,
   "id": "b9e0009b",
   "metadata": {
    "pycharm": {
     "name": "#%%\n"
    }
   },
   "outputs": [],
   "source": [
    "def place_buy_order(scrip, quantity, limit):\n",
    "    order = exchange.create_limit_buy_order(scrip, quantity, limit)\n",
    "    return order\n",
    "\n",
    "def place_sell_order(scrip, quantity, limit):\n",
    "    order = exchange.create_limit_sell_order(scrip, quantity, limit)\n",
    "    return order \n",
    "\n",
    "def place_trade_orders(type, scrip1, scrip2, scrip3, initial_amount, scrip_prices):\n",
    "    final_amount = 0.0\n",
    "    if type == 'BUY_BUY_SELL':\n",
    "        \n",
    "        # Trade 1\n",
    "        s1_quantity = initial_amount/scrip_prices[scrip1]\n",
    "        order = place_buy_order(scrip1, s1_quantity, scrip_prices[scrip1])\n",
    "        if verbose in [True]: print(order)\n",
    "        if verbose in ['trade']: print(f'Order 1: {order[\"symbol\"]} {order[\"side\"]} {order[\"status\"]} {order[\"price\"]} {order[\"amount\"]} {order[\"filled\"]} {order[\"remaining\"]} {order[\"cost\"]} {order[\"fee\"]}')\n",
    "        \n",
    "        # Trade 2\n",
    "        s2_quantity = float(order['amount'])/scrip_prices[scrip2]\n",
    "        order = place_buy_order(scrip2, s2_quantity, scrip_prices[scrip2])\n",
    "        if verbose in [True]: print('Order 2',order)\n",
    "        if verbose in ['trade']: print(f'Order 2: {order[\"symbol\"]} {order[\"side\"]} {order[\"status\"]} {order[\"price\"]} {order[\"amount\"]} {order[\"filled\"]} {order[\"remaining\"]} {order[\"cost\"]} {order[\"fee\"]}')\n",
    "        \n",
    "        # Trade 3\n",
    "        s3_quantity = float(order['amount'])\n",
    "        order = place_sell_order(scrip3, s3_quantity, scrip_prices[scrip3])\n",
    "        if verbose in [True]: print('Order 3',order)\n",
    "        if verbose in ['trade']: print(f'Order 3: {order[\"symbol\"]} {order[\"side\"]} {order[\"status\"]} {order[\"price\"]} {order[\"amount\"]} {order[\"filled\"]} {order[\"remaining\"]} {order[\"cost\"]} {order[\"fee\"]}')\n",
    "    \n",
    "    \n",
    "        \n",
    "    elif type == 'BUY_SELL_SELL':\n",
    "        s1_quantity = initial_amount/scrip_prices[scrip1]\n",
    "        order = place_buy_order(scrip1, s1_quantity, scrip_prices[scrip1])\n",
    "        if verbose in [True]: print(order)\n",
    "        if verbose in ['trade']: print(f'Order 1: {order[\"symbol\"]} {order[\"side\"]} {order[\"status\"]} {order[\"price\"]} {order[\"amount\"]} {order[\"filled\"]} {order[\"remaining\"]} {order[\"cost\"]} {order[\"fee\"]}')\n",
    "        \n",
    "        s2_quantity = order['amount']\n",
    "        order = place_sell_order(scrip2, s2_quantity, scrip_prices[scrip2])\n",
    "        if verbose in [True]: print('Order 2',order)\n",
    "        if verbose in ['trade']: print(f'Order 2: {order[\"symbol\"]} {order[\"side\"]} {order[\"status\"]} {order[\"price\"]} {order[\"amount\"]} {order[\"filled\"]} {order[\"remaining\"]} {order[\"cost\"]} {order[\"fee\"]}')\n",
    "        \n",
    "        s3_quantity = order['amount'] * scrip_prices[scrip2]\n",
    "        order = place_sell_order(scrip3, s3_quantity, scrip_prices[scrip3])\n",
    "        if verbose in [True]: print('Order 3',order)\n",
    "        if verbose in ['trade']: print(f'Order 3: {order[\"symbol\"]} {order[\"side\"]} {order[\"status\"]} {order[\"price\"]} {order[\"amount\"]} {order[\"filled\"]} {order[\"remaining\"]} {order[\"cost\"]} {order[\"fee\"]}')\n",
    "    \n",
    "    final_amount = order['amount']\n",
    "\n",
    "    return final_amount"
   ]
  },
  {
   "cell_type": "markdown",
   "id": "ad0ce6f0",
   "metadata": {
    "pycharm": {
     "name": "#%% md\n"
    }
   },
   "source": [
    "Sample order from exchange immediately after execution:   \n",
    "{'info': {'id': '2490462375', 'symbol': 'btcusdt', 'type': 'limit', 'side': 'buy', 'status': 'wait', 'price': '43201.0', 'origQty': '0.002314', 'executedQty': '0.0', 'createdTime': '1646302254000', 'updatedTime': '1646302254000'}, 'id': '2490462375', 'clientOrderId': None, 'timestamp': 1646302254000, 'datetime': '2022-03-03T10:10:54.000Z', 'lastTradeTimestamp': 1646302254000, 'status': 'open', 'symbol': 'BTC/USDT', 'type': 'limit', 'timeInForce': None, 'postOnly': None, 'side': 'buy', 'price': 43201.0, 'amount': None, 'filled': 0.0, 'remaining': None, 'cost': 0.0, 'fee': None, 'average': None, 'trades': [], 'fees': []}"
   ]
  },
  {
   "cell_type": "markdown",
   "id": "1941b358",
   "metadata": {
    "pycharm": {
     "name": "#%% md\n"
    }
   },
   "source": [
    "# STEP 4: WRAPPING IT TOGETHER"
   ]
  },
  {
   "cell_type": "code",
   "execution_count": 15,
   "id": "ace320e7",
   "metadata": {
    "pycharm": {
     "name": "#%%\n"
    }
   },
   "outputs": [],
   "source": [
    "def perform_triangular_arbitrage(scrip1, scrip2, scrip3, arbitrage_type,investment_limit, min_profit_percentage):\n",
    "    start_time = time.time()\n",
    "\n",
    "    OP_return = 0.0\n",
    "    if(arbitrage_type == 'BUY_BUY_SELL'):\n",
    "        # Check this combination for triangular arbitrage: scrip1 - BUY, scrip2 - BUY, scrip3 - SELL\n",
    "        op = check_buy_buy_sell(scrip1, scrip2, scrip3,investment_limit)\n",
    "        if not op == None:\n",
    "            OP_return, scrip_prices,scrip_amounts = op\n",
    "        else:\n",
    "            return None\n",
    "        \n",
    "    elif(arbitrage_type == 'BUY_SELL_SELL'):\n",
    "        # Check this combination for triangular arbitrage: scrip1 - BUY, scrip2 - SELL, scrip3 - SELL\n",
    "        op = check_buy_sell_sell(scrip1, scrip2, scrip3,investment_limit)\n",
    "        if not op == None:\n",
    "            OP_return, scrip_prices,scrip_amounts = op\n",
    "        else:\n",
    "            return None\n",
    "\n",
    "    profit = check_profit_loss(OP_return,scrip_amounts[scrip1], min_profit_percentage)\n",
    "\n",
    "    result = f\"{dt.datetime.now().strftime('%d-%b-%Y %H:%M:%S.%f')},\"\\\n",
    "            f\"{arbitrage_type}, {scrip1}, {scrip_prices[scrip1]}, {scrip_amounts[scrip1]},\"\\\n",
    "            f\"{scrip2}, {scrip_prices[scrip2]}, {scrip_amounts[scrip2]}, {scrip3}, {scrip_prices[scrip3]}, {scrip_amounts[scrip3]},\"\\\n",
    "            f\"{scrip_amounts[scrip1]}, {OP_return}, {profit}\"\n",
    "\n",
    "    if profit:\n",
    "        #place_trade_orders(arbitrage_type, scrip1, scrip2, scrip3, investment_limit, scrip_prices)\n",
    "        print(result)\n",
    "    end_time = time.time()\n",
    "    exe_time = end_time - start_time\n",
    "\n",
    "    result += f',{exe_time}'\n",
    "    return result"
   ]
  },
  {
   "cell_type": "markdown",
   "id": "a2529977",
   "metadata": {
    "pycharm": {
     "name": "#%% md\n"
    }
   },
   "source": [
    "### Set request strict limits"
   ]
  },
  {
   "cell_type": "code",
   "execution_count": 16,
   "id": "8a83c407",
   "metadata": {
    "pycharm": {
     "name": "#%%\n"
    }
   },
   "outputs": [],
   "source": [
    "#Límites estrictos:\n",
    "#Ponderación de 1200 solicitudes por minuto (ten en cuenta que no es necesariamente lo mismo que 1200 solicitudes)\n",
    "#50 órdenes cada 10 segundos\n",
    "#160 000 órdenes cada 24 horas\n",
    "#Nuestros límites estrictos están incluidos en el punto final [/api/v3/exchangeInfo].\n",
    "placeholderTime = dt.datetime.strptime('00:00', '%H:%M')\n",
    "requestPerMin = {'start': placeholderTime , 'requests': 0}\n",
    "requestPer10sec = {'start': placeholderTime, 'end': placeholderTime, 'requests': 0}\n",
    "requestPer24h = {'start': placeholderTime, 'end': placeholderTime, 'requests': 0}\n",
    "\n",
    "limit10sec = False\n",
    "limitPerMin = False\n",
    "limitPer24H = False\n",
    "\n",
    "# Calculate average request per minute\n",
    "def AVGrequestsPerMin(requests, start, end = dt.datetime.now()):\n",
    "    print(end)\n",
    "    interval = end - start\n",
    "    print(interval)\n",
    "    try:\n",
    "        avg = round(requests/ round(interval.total_seconds()/60,0), 0)\n",
    "    except ZeroDivisionError:\n",
    "        avg = 0\n",
    "    return avg"
   ]
  },
  {
   "cell_type": "code",
   "execution_count": 17,
   "id": "4649f193",
   "metadata": {
    "pycharm": {
     "name": "#%%\n"
    }
   },
   "outputs": [],
   "source": [
    "#def checkLimits(verbose= False):\n",
    "#    if requestPer24h['requests'] >= (160000):\n",
    "#        deltaToEnd = requestPer24h['end'] - dt.datetime.now()\n",
    "#        print(f'24H limit reached, spleeping {deltaToEnd} until {requestPer24h[\"end\"]}')\n",
    "#        time.sleep(deltaToEnd.total_seconds())\n",
    "#    elif requestPer24h['end'] < dt.datetime.now():\n",
    "#        requestPer24h['start'] = dt.datetime.now()\n",
    "#        requestPer24h['end'] = requestPer24h['start'] + dt.timedelta(hours= 24)\n",
    "#        requestPer24h['requests'] = 0\n",
    "#        if verbose == True:\n",
    "#            print('24H counter reset')\n",
    "#\n",
    "#    if requestPer10sec['requests'] >= (50):\n",
    "#        deltaToEnd = requestPer10sec['end'] - dt.datetime.now()\n",
    "#        print(f'10 sec. limit reached, sleeping {deltaToEnd} until {requestPer10sec[\"end\"]}')\n",
    "#        time.sleep(deltaToEnd.total_seconds())\n",
    "#    elif requestPer10sec['end'] < dt.datetime.now():\n",
    "#        requestPer10sec['start'] = dt.datetime.now()\n",
    "#        requestPer10sec['end'] = requestPer10sec['start'] + dt.timedelta(seconds= 10)\n",
    "#        requestPer10sec['requests'] = 0\n",
    "#        if verbose == True:\n",
    "#            print('10 sec counter reset')\n",
    "#    \n",
    "#    avgMin = AVGrequestsPerMin(requestPerMin['requests'],requestPerMin['start'])\n",
    "#    if avgMin > 1200:\n",
    "#        print(f'Request per minute limit reached, sleeping 1 minute')\n",
    "#        time.sleep(60)\n",
    "#    \n",
    "#    if verbose == True:\n",
    "#        # print limit counters\n",
    "#        print(f'Limit 10 sec: {requestPer10sec[\"requests\"]}')\n",
    "#        print(f'Limit min AVG: {avgMin}')\n",
    "#        print(f'Limit 24h: {requestPer24h[\"requests\"]}')"
   ]
  },
  {
   "cell_type": "markdown",
   "id": "437a29df",
   "metadata": {},
   "source": [
    "## Execute the loop"
   ]
  },
  {
   "cell_type": "code",
   "execution_count": null,
   "id": "a9646500",
   "metadata": {
    "pycharm": {
     "name": "#%%\n"
    }
   },
   "outputs": [],
   "source": [
    "# brokerage commission from API included in price @ check bbs or sbb strategies\n",
    "verbose = 'error' # True/False, error, trade\n",
    "max_inveted_amount = 10\n",
    "MIN_PROFIT_percentage = 0.01\n",
    "#BROKERAGE_PER_TRANSACTION_PERCENT = 0.2 ## taken from marketFeesDF\n",
    "#Start minute average counter\n",
    "#requestPerMin['start'] = dt.datetime.now()\n",
    "\n",
    "while(True):\n",
    "    for combination in wx_combinations_usdt:\n",
    "\n",
    "        base = combination['base']\n",
    "        intermediate = combination['intermediate']\n",
    "        ticker = combination['ticker']\n",
    "        combination_ID = '/'.join([base, intermediate, ticker]) # Eg: \"USDT/BTC/ETH\"\n",
    "\n",
    "        s1 = f'{intermediate}/{base}'    # Eg: BTC/USDT\n",
    "        s2 = f'{ticker}/{intermediate}'  # Eg: ETH/BTC\n",
    "        s3 = f'{ticker}/{base}'          # Eg: ETH/USDT\n",
    "\n",
    "        try:\n",
    "\n",
    "            # Set max investment amount\n",
    "            wallet = exchange.fetchBalance()\n",
    "            if wallet['USDT']['free'] > 100:\n",
    "                max_inveted_amount = 100\n",
    "            else:\n",
    "                max_inveted_amount = wallet['USDT']['free']\n",
    "\n",
    "            # check request limits and sleep if exceed\n",
    "            #checkLimits(verbose=verbose)\n",
    "\n",
    "            # Check triangular arbitrage for buy-buy-sell \n",
    "            bbs = perform_triangular_arbitrage(s1,s2,s3,'BUY_BUY_SELL',max_inveted_amount, MIN_PROFIT_percentage)\n",
    "\n",
    "            if not os.path.exists(f'output\\TriBot_output_{dt.datetime.today().date().strftime(\"%d%m%Y\")}.csv'):\n",
    "                with open(f'output\\TriBot_output_{dt.datetime.today().date().strftime(\"%d%m%Y\")}.csv', 'a') as f:\n",
    "                    f.write('combination_ID,date,arbitrage_type,pair_1, price_1, amount_1, pair_2, price_2, amount_2, pair_3, price_3, amount_3, initial_amount, OP_return, Profitable, exe_time\\n')\n",
    "            \n",
    "            #result = f\"{dt.datetime.now().strftime('%d-%b-%Y %H:%M:%S.%f')},\"\\\n",
    "            #    f\"{arbitrage_type}, {scrip1}, {scrip_prices[scrip1]}, {scrip_amounts[scrip1]},\"\\\n",
    "            #    f\"{scrip2}, {scrip_prices[scrip2]}, {scrip_amounts[scrip2]}, {scrip3}, {scrip_prices[scrip3]}, {scrip_amounts[scrip3]},\"\\\n",
    "            #    f\"{scrip_amounts[scrip1]}, {OP_return}, {profit}\"\n",
    "\n",
    "\n",
    "            if not bbs == None:\n",
    "                with open(f'output\\TriBot_output_{dt.datetime.today().date().strftime(\"%d%m%Y\")}.csv', 'a') as f:\n",
    "                    f.write(combination_ID+','+bbs+'\\n')\n",
    "\n",
    "            # check request limits\n",
    "            #checkLimits(verbose= True)\n",
    "\n",
    "            # Check triangular arbitrage for buy-sell-sell \n",
    "            bss = perform_triangular_arbitrage(s3,s2,s1,'BUY_SELL_SELL',max_inveted_amount, MIN_PROFIT_percentage)\n",
    "            if not bss == None:\n",
    "                with open(f'output\\TriBot_output_{dt.datetime.today().date().strftime(\"%d%m%Y\")}.csv', 'a') as f:\n",
    "                    f.write(combination_ID+','+bss+'\\n')\n",
    "            errCatch = 0                                    # Restart error counter after complete execution without exceptions\n",
    "            \n",
    "        except ccxt.NetworkError as err:\n",
    "            if verbose in [True,'error']: print(f'Network error: {err}')\n",
    "            if errCatch == 1:\n",
    "                if verbose in [True,'error']: print(f'Error catch {errCatch} Sleeping 30 minutes')\n",
    "                time.sleep(30*60)\n",
    "                errCatch +=1\n",
    "            elif errCatch == 2:\n",
    "                if verbose in [True,'error']: print(f'Error catch {errCatch} Sleeping 60 minutes')\n",
    "                time.sleep(60*60)\n",
    "                errCatch += 1\n",
    "            elif errCatch == 3:\n",
    "                if verbose in [True,'error']: print(f'Error catch {errCatch} Sleeping 90 minutes')\n",
    "                time.sleep(90*60)\n",
    "                errCatch += 1\n",
    "            else:\n",
    "                if verbose in [True,'error']: print(f'Error catch {errCatch}  BREAK!')\n",
    "                break\n",
    "        \n",
    "        except ccxt.ExchangeError as err:\n",
    "            if verbose in [True,'error']: print(f'Network error: {err}')\n",
    "            if errCatch <= 5:\n",
    "                if verbose in [True,'error']: print(f'Error catch {errCatch} Sleeping 5 minutes')\n",
    "                time.sleep(5*60)\n",
    "                errCatch +=1\n",
    "            else:\n",
    "                break"
   ]
  },
  {
   "cell_type": "code",
   "execution_count": 50,
   "id": "a8c28708",
   "metadata": {},
   "outputs": [],
   "source": [
    "#pairs = ['BTC/USDT']\n",
    "#f = fetch_current_ticker_price(pairs)\n",
    "#o = place_buy_order(pairs[0],10,f[pairs[0]]['ask']) # what's the amount to buy?!!!\n",
    "#print(o)"
   ]
  },
  {
   "cell_type": "markdown",
   "id": "2baaee2d",
   "metadata": {},
   "source": [
    "# Improvements\n",
    "OP Prices from the top bid and ask [DONE]  \n",
    "OP Amoint from the top bid and ask [DONE]  \n",
    "Minimun volumen to trade per pair [DONE]  \n",
    "Calculate fee per pair and apply it [DONE]  \n",
    "Handle Strict limits via API [suppose to be done with exchange.enableLimit = True][Testing]  \n",
    "Implement REAL order execution\n",
    "Take functions to a .py  \n",
    "Get Pair combinations independently of the position of the asset (base or quote)  \n",
    "Get OP prices by ponderating bids and ask from the order book until the max of investment  \n",
    "\n",
    "\n",
    "# Bugfixing\n",
    "Execution time: is calculate in each OP check but result is always negative. [DONE]  \n",
    "OP2 in BSS is amount/price instead of amount*price [20/05/22] [Tesing]  \n",
    "TimeOut Error appers after a while running. Added an Error Catch [22/05/22][Testing]  "
   ]
  }
 ],
 "metadata": {
  "interpreter": {
   "hash": "8ad28f2c1a0c112e0b975621d9a01213cf9ae433227f24bc93a5152db88d90e1"
  },
  "kernelspec": {
   "display_name": "Python 3.9.12 ('cryptobot')",
   "language": "python",
   "name": "python3"
  },
  "language_info": {
   "codemirror_mode": {
    "name": "ipython",
    "version": 3
   },
   "file_extension": ".py",
   "mimetype": "text/x-python",
   "name": "python",
   "nbconvert_exporter": "python",
   "pygments_lexer": "ipython3",
   "version": "3.9.12"
  },
  "toc": {
   "base_numbering": 1,
   "nav_menu": {},
   "number_sections": true,
   "sideBar": true,
   "skip_h1_title": false,
   "title_cell": "Table of Contents",
   "title_sidebar": "Contents",
   "toc_cell": false,
   "toc_position": {},
   "toc_section_display": true,
   "toc_window_display": true
  }
 },
 "nbformat": 4,
 "nbformat_minor": 5
}

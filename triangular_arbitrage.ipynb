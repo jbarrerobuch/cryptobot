{
 "cells": [
  {
   "cell_type": "markdown",
   "id": "8163280e",
   "metadata": {
    "pycharm": {
     "name": "#%% md\n"
    }
   },
   "source": [
    "# IMPORTS"
   ]
  },
  {
   "cell_type": "code",
   "execution_count": null,
   "id": "6cd06700",
   "metadata": {
    "pycharm": {
     "name": "#%%\n"
    }
   },
   "outputs": [],
   "source": [
    "import ccxt\n",
    "import pandas as pd\n",
    "import time\n",
    "import datetime as dt\n",
    "from config import myconfig"
   ]
  },
  {
   "cell_type": "markdown",
   "id": "8a2503c0",
   "metadata": {
    "pycharm": {
     "name": "#%% md\n"
    }
   },
   "source": [
    "# INITIALIZE"
   ]
  },
  {
   "cell_type": "code",
   "execution_count": null,
   "id": "c7f4b408",
   "metadata": {
    "pycharm": {
     "name": "#%%\n"
    }
   },
   "outputs": [],
   "source": [
    "exchange = ccxt.binance({\n",
    "    \"apiKey\": myconfig.API_KEY,\n",
    "    \"secret\": myconfig.API_SECRET\n",
    "})"
   ]
  },
  {
   "cell_type": "markdown",
   "id": "af6156b2",
   "metadata": {
    "pycharm": {
     "name": "#%% md\n"
    }
   },
   "source": [
    "# GET MARKET FEES"
   ]
  },
  {
   "cell_type": "code",
   "execution_count": null,
   "id": "6d8818d8",
   "metadata": {
    "pycharm": {
     "name": "#%%\n"
    }
   },
   "outputs": [],
   "source": [
    "marketFees = exchange.fetch_fees()['trading']"
   ]
  },
  {
   "cell_type": "code",
   "execution_count": null,
   "id": "75293eb8",
   "metadata": {
    "pycharm": {
     "name": "#%%\n"
    }
   },
   "outputs": [],
   "source": [
    "marketFeesDF = pd.DataFrame.from_dict(marketFees, orient= 'index').drop(columns= 'info')"
   ]
  },
  {
   "cell_type": "markdown",
   "id": "dd36cb5a",
   "metadata": {
    "pycharm": {
     "name": "#%% md\n"
    }
   },
   "source": [
    "# GET MARKETS"
   ]
  },
  {
   "cell_type": "code",
   "execution_count": null,
   "id": "56e96905",
   "metadata": {
    "pycharm": {
     "name": "#%%\n"
    }
   },
   "outputs": [],
   "source": [
    "markets = exchange.fetchMarkets()\n",
    "#market_symbols = [market['symbol'] for market in markets]\n",
    "#print(f'No. of market symbols: {len(market_symbols)}')\n",
    "#print(f'Sample:{market_symbols[0:5]}')"
   ]
  },
  {
   "cell_type": "code",
   "execution_count": null,
   "id": "6a117627",
   "metadata": {},
   "outputs": [],
   "source": [
    "markets[0]"
   ]
  },
  {
   "cell_type": "markdown",
   "id": "899de352",
   "metadata": {},
   "source": [
    "# Load markets in a data frame  \n",
    "  \n",
    "Filter out inactive markets"
   ]
  },
  {
   "cell_type": "code",
   "execution_count": null,
   "id": "23d942c8",
   "metadata": {
    "pycharm": {
     "name": "#%%\n"
    }
   },
   "outputs": [],
   "source": [
    "markets_df = pd.DataFrame.from_dict(markets)\n",
    "markets_df =  markets_df.loc[markets_df['active'] == True] # Drop inactive markets\n",
    "markets_df.set_index('symbol', verify_integrity= True, inplace= True,drop= False)"
   ]
  },
  {
   "cell_type": "code",
   "execution_count": null,
   "id": "17fc82eb",
   "metadata": {
    "pycharm": {
     "name": "#%%\n"
    }
   },
   "outputs": [],
   "source": [
    "# Get only spot markets\n",
    "spot_market = markets_df[markets_df.type == 'spot']\n",
    "\n",
    "# Extrac decimal precision of markets\n",
    "info_df = spot_market['info'].apply(pd.Series).drop(columns=[\n",
    "    'symbol',\n",
    "    'status',\n",
    "    'baseAsset',\n",
    "    'quoteAsset',\n",
    "    'orderTypes',\n",
    "    'icebergAllowed',\n",
    "    'ocoAllowed',\n",
    "    'quoteOrderQtyMarketAllowed',\n",
    "    'allowTrailingStop',\n",
    "    'isSpotTradingAllowed',\n",
    "    'isMarginTradingAllowed',\n",
    "    'filters',\n",
    "    'permissions'\n",
    "])\n",
    "amounts_df = spot_market['limits'].apply(pd.Series)['amount'].apply(pd.Series)\n",
    "amounts_df.rename(columns={'min':'amount_min', 'max':'amount_max'}, inplace= True)\n",
    "\n",
    "spot_market.drop(columns=[\n",
    "    'delivery', 'option', 'contract', 'linear',\n",
    "    'inverse', 'contractSize', 'expiry',\n",
    "    'expiryDatetime', 'margin', 'swap', 'future', 'strike',\n",
    "    'optionType', 'precision', 'limits', 'info', 'settleId', 'settle', 'baseId', 'quoteId', 'lowercaseId'], inplace=True)\n",
    "spot_market = pd.concat([spot_market, info_df, amounts_df], axis=1)\n",
    "\n",
    "spot_market[spot_market['symbol'].str.contains('BTC/USDT')]"
   ]
  },
  {
   "cell_type": "code",
   "execution_count": null,
   "id": "e008dc2e",
   "metadata": {
    "pycharm": {
     "name": "#%%\n"
    }
   },
   "outputs": [],
   "source": [
    "spot_symbols = list(spot_market.symbol)\n",
    "#print('Total spot symbols',len(spot_symbols))"
   ]
  },
  {
   "cell_type": "markdown",
   "id": "05093ee2",
   "metadata": {
    "pycharm": {
     "name": "#%% md\n"
    }
   },
   "source": [
    "# STEP 1: GET ALL THE CRYPTO COMBINATIONS FOR USDT"
   ]
  },
  {
   "cell_type": "code",
   "execution_count": null,
   "id": "2ce8ac7c",
   "metadata": {
    "pycharm": {
     "name": "#%%\n"
    }
   },
   "outputs": [],
   "source": [
    "def get_crypto_combinations(market_symbols, base):\n",
    "    combinations = []\n",
    "    for sym1 in market_symbols:\n",
    "        \n",
    "        sym1_token1 = sym1.split('/')[0]\n",
    "        sym1_token2 = sym1.split('/')[1]\n",
    "        \n",
    "        if (sym1_token2 == base):\n",
    "            for sym2 in market_symbols:\n",
    "                sym2_token1 = sym2.split('/')[0]\n",
    "                sym2_token2 = sym2.split('/')[1]\n",
    "                if (sym1_token1 == sym2_token2):\n",
    "                    for sym3 in market_symbols:\n",
    "                        sym3_token1 = sym3.split('/')[0]\n",
    "                        sym3_token2 = sym3.split('/')[1]\n",
    "                        if((sym2_token1 == sym3_token1) and (sym3_token2 == sym1_token2)):\n",
    "                            combination = {\n",
    "                                'base':sym1_token2,\n",
    "                                'intermediate':sym1_token1,\n",
    "                                'ticker':sym2_token1,\n",
    "                            }\n",
    "                            combinations.append(combination)\n",
    "                \n",
    "\n",
    "    return combinations\n",
    "        \n",
    "wx_combinations_usdt = get_crypto_combinations(spot_symbols,'USDT')\n",
    "#combinations_bnb = get_crypto_combinations(spot_market,'BUSD')\n"
   ]
  },
  {
   "cell_type": "code",
   "execution_count": null,
   "id": "59458297",
   "metadata": {
    "pycharm": {
     "name": "#%%\n"
    }
   },
   "outputs": [],
   "source": [
    "print(f'No. of USDT combinations: {len(wx_combinations_usdt)}')\n",
    "#print(f'No. of BNB combinations: {len(combinations_bnb)}')\n",
    "\n",
    "cominations_df = pd.DataFrame(wx_combinations_usdt)\n",
    "cominations_df.head()"
   ]
  },
  {
   "cell_type": "markdown",
   "id": "0af31255",
   "metadata": {
    "pycharm": {
     "name": "#%% md\n"
    }
   },
   "source": [
    "# STEP 2: PERFORM TRIANGULAR ARBITRAGE"
   ]
  },
  {
   "cell_type": "markdown",
   "id": "cc826251",
   "metadata": {
    "pycharm": {
     "name": "#%% md\n"
    }
   },
   "source": [
    "## Utility method to fetch the current ticker price"
   ]
  },
  {
   "cell_type": "code",
   "execution_count": null,
   "id": "79446407",
   "metadata": {
    "pycharm": {
     "name": "#%%\n"
    }
   },
   "outputs": [],
   "source": [
    "def fetch_current_ticker_price(tickerList, limiters= True):\n",
    "    bidAsk = exchange.fetch_bids_asks(symbols= tickerList)\n",
    "\n",
    "    # add 1 to limit counters\n",
    "    if limiters:\n",
    "        requestPer10sec['requests'] += 1\n",
    "        requestPerMin['requests'] += 1\n",
    "        requestPer24h['requests'] += 1\n",
    "\n",
    "    #if operation == 'buy':\n",
    "    #    return (bidAsk[ticker]['ask'], bidAsk[ticker]['askVolume'])\n",
    "    #else:\n",
    "    #    return (bidAsk[ticker]['bid'], bidAsk[ticker]['bidVolume'])\n",
    "    return bidAsk\n",
    "\n",
    "fetch_current_ticker_price('ETH/USDT', limiters= False)"
   ]
  },
  {
   "cell_type": "code",
   "execution_count": null,
   "id": "326d6d88",
   "metadata": {},
   "outputs": [],
   "source": [
    "float(exchange.amount_to_precision('BTC/USDT', 100-exchange.calculate_fee('BTC/USDT','spot','buy',100,40000)['cost']))"
   ]
  },
  {
   "cell_type": "markdown",
   "id": "f270fc12",
   "metadata": {
    "pycharm": {
     "name": "#%% md\n"
    }
   },
   "source": [
    "## Triangular Arbitrage"
   ]
  },
  {
   "cell_type": "code",
   "execution_count": null,
   "id": "fb64f406",
   "metadata": {
    "pycharm": {
     "name": "#%%\n"
    }
   },
   "outputs": [],
   "source": [
    "def check_buy_buy_sell(scrip1, scrip2, scrip3, investment_max_limit = 100, investment_min_limit = 5):\n",
    "    \n",
    "    fullfetch = fetch_current_ticker_price([scrip1, scrip2, scrip3])\n",
    "    if verbose == True:\n",
    "        print(f'{scrip1}: {fullfetch[scrip1][\"bid\"]}/{fullfetch[scrip1][\"bidVolume\"]} - {fullfetch[scrip1][\"ask\"]}/{fullfetch[scrip1][\"askVolume\"]}')\n",
    "        print(f'{scrip2}: {fullfetch[scrip2][\"bid\"]}/{fullfetch[scrip2][\"bidVolume\"]} - {fullfetch[scrip2][\"ask\"]}/{fullfetch[scrip2][\"askVolume\"]}')\n",
    "        print(f'{scrip3}: {fullfetch[scrip3][\"bid\"]}/{fullfetch[scrip3][\"bidVolume\"]} - {fullfetch[scrip3][\"ask\"]}/{fullfetch[scrip3][\"askVolume\"]}')\n",
    "\n",
    "    # Vol analysis for OP size and PNL\n",
    "    vol1 = fullfetch[scrip1]['bid']*fullfetch[scrip1]['bidVolume']\n",
    "    vol2 = fullfetch[scrip2]['bid']*fullfetch[scrip2]['bidVolume']\n",
    "    vol3 = fullfetch[scrip3]['ask']*fullfetch[scrip3]['askVolume']\n",
    "\n",
    "    if verbose: print(f'Max inv: {investment_max_limit}')\n",
    "    #Check volume of asset 1 is greater than investment limit\n",
    "    if (investment_max_limit > vol1) and (vol1 > investment_min_limit):\n",
    "        amount1 = vol1\n",
    "        if verbose: print(f'Max inv reached to buy {amount1}')\n",
    "    elif vol1 < investment_min_limit:\n",
    "        if verbose: print(f'Vol1 lower than min {vol1}')\n",
    "        return None\n",
    "    else:\n",
    "        amount1 = investment_max_limit\n",
    "        if verbose: print(f'amount to buy {amount1}')\n",
    "\n",
    "    amount2 = float(exchange.amount_to_precision(scrip2, amount1/fullfetch[scrip1]['bid'])) - exchange.calculate_fee(scrip1, 'spot', 'buy', amount1, fullfetch[scrip1]['bid'])['cost'] # take out commission.\n",
    "    if verbose: print(f'amount2 to buy: {amount2}')\n",
    "    #Check volume of asset 2 is greater than investment limit\n",
    "    if (amount2 > vol2) and (vol2 > investment_min_limit):\n",
    "        amount2 = vol2\n",
    "        amount1 = round(amount2 * fullfetch[scrip1]['bid'], 8) #Reverse conversion, without comission.\n",
    "        if verbose: print(f'Max amount2 reached to buy {amount2}, amount1 {amount1}')\n",
    "    elif vol2 < investment_min_limit:\n",
    "        if verbose: print(f'Vol2 lower than min {vol2}')\n",
    "        return None\n",
    "\n",
    "    amount3 = round(round(amount2 / fullfetch[scrip2]['bid'],8) * (1-marketFeesDF.loc[scrip2]['taker']), 8)\n",
    "    #Check volume of asset 3 is greater than investment limit\n",
    "    if verbose: print(f'amount3 to sell {amount3}')\n",
    "    if (amount3 > vol3) and (vol3 > investment_min_limit):\n",
    "        amount3 = vol3\n",
    "        amount2 = round(amount3 * fullfetch[scrip2]['bid'], 8) #Reverse conversion, without comission.\n",
    "        amount1 = round(amount2 * fullfetch[scrip1]['bid'], 8) #Reverse conversion, without comission.\n",
    "        if verbose: print(f'Max amount3 reached to sell {amount3}, amount2 {amount2}, amount1 {amount1}')\n",
    "    elif vol3 < investment_min_limit:\n",
    "        if verbose: print(f'Vol3 lower than min {vol3}')\n",
    "        return None\n",
    "    \n",
    "    OP_return = round(round(amount3 * fullfetch[scrip3]['ask'],8) * (1-marketFeesDF.loc[scrip3]['taker']),8) #include commission in price\n",
    "    if verbose: print('OP Return', OP_return)\n",
    "\n",
    "    scrip_prices = {scrip1 : fullfetch[scrip1][\"bid\"], scrip2 : fullfetch[scrip2]['bid'], scrip3 : fullfetch[scrip3]['ask']}\n",
    "    scrip_amounts = {scrip1: amount1, scrip2: amount2, scrip3: amount3}\n",
    "\n",
    "    return OP_return, scrip_prices, scrip_amounts"
   ]
  },
  {
   "cell_type": "code",
   "execution_count": null,
   "id": "5cced8ba",
   "metadata": {
    "pycharm": {
     "name": "#%%\n"
    }
   },
   "outputs": [],
   "source": [
    "def check_buy_sell_sell(scrip1, scrip2, scrip3,investment_max_limit = 100, investment_min_limit = 5):\n",
    "        \n",
    "    fullfetch = fetch_current_ticker_price([scrip1, scrip2, scrip3])\n",
    "    if verbose == True:\n",
    "        print(f'{scrip1}: {fullfetch[scrip1][\"bid\"]}/{fullfetch[scrip1][\"bidVolume\"]} - {fullfetch[scrip1][\"ask\"]}/{fullfetch[scrip1][\"askVolume\"]}')\n",
    "        print(f'{scrip2}: {fullfetch[scrip2][\"bid\"]}/{fullfetch[scrip2][\"bidVolume\"]} - {fullfetch[scrip2][\"ask\"]}/{fullfetch[scrip2][\"askVolume\"]}')\n",
    "        print(f'{scrip3}: {fullfetch[scrip3][\"bid\"]}/{fullfetch[scrip3][\"bidVolume\"]} - {fullfetch[scrip3][\"ask\"]}/{fullfetch[scrip3][\"askVolume\"]}')\n",
    "\n",
    "    # Vol analysis for OP size and PNL - FIT CODE\n",
    "    vol1 = fullfetch[scrip1]['bid']*fullfetch[scrip1]['bidVolume']\n",
    "    vol2 = fullfetch[scrip2]['ask']*fullfetch[scrip2]['bidVolume']\n",
    "    vol3 = fullfetch[scrip3]['ask']*fullfetch[scrip3]['askVolume']\n",
    "\n",
    "    if verbose: print(f'Max inv: {investment_max_limit}')\n",
    "    #Check volume of asset 1 is greater than investment limit\n",
    "    if (investment_max_limit > vol1) and (vol1 > investment_min_limit):\n",
    "        amount1 = vol1\n",
    "        if verbose: print(f'Max inv reached to buy {amount1}')\n",
    "    elif vol1 < investment_min_limit:\n",
    "        if verbose: print(f'Vol1 lower than min {vol1}')\n",
    "        return None\n",
    "    else:\n",
    "        amount1 = investment_max_limit\n",
    "        if verbose: print(f'amount to buy is inves {amount1}')\n",
    "\n",
    "    #Check volume of asset 2 is greater than investment limit\n",
    "    amount2 = round(round(amount1/fullfetch[scrip1]['bid'], 8) * (1-marketFeesDF.loc[scrip1]['taker']), 8) #include commission\n",
    "    if verbose: print(f'amount2 to buy: {amount2}')\n",
    "    if (amount2 > vol2) and (vol2 > investment_min_limit):\n",
    "        amount2 = vol2\n",
    "        amount1 = round(amount2 * fullfetch[scrip1]['bid'], 8) # Reverse conversion without commission\n",
    "        if verbose: print(f'Max amount2 reached to buy {amount2}, amount1 {amount1}')\n",
    "    elif vol2 < investment_min_limit:\n",
    "        if verbose: print(f'Vol1 lower than min {vol1}')\n",
    "        return None    \n",
    "        \n",
    "    #Check volume of asset 2 is greater than investment limit\n",
    "    amount3 = round(round(amount2 * fullfetch[scrip2]['ask'], 8) * (1-marketFeesDF.loc[scrip2]['taker']), 8)\n",
    "    if verbose: print(f'amount3 to sell {amount3}')\n",
    "    if (amount3 > vol3) and (vol3 > investment_min_limit):\n",
    "        amount3 = vol3\n",
    "        amount2 = round(amount3 / fullfetch[scrip2]['bid'], 8) # Reverse conversion without comission\n",
    "        amount1 = round(amount2 * fullfetch[scrip1]['bid'], 8) # Reverse conversion without comission\n",
    "        if verbose: print(f'Max amount3 reached to sell {amount3}, amount2 {amount2}, amount1 {amount1}')\n",
    "    elif vol3 < investment_min_limit:\n",
    "        if verbose: print(f'Vol1 lower than min {vol1}')\n",
    "        return None\n",
    "    \n",
    "    OP_return = round(round(amount3 * fullfetch[scrip3]['ask'], 8) * (1-marketFeesDF.loc[scrip3]['taker']),8) #include commission in price\n",
    "    if verbose: print('OP Return', OP_return)\n",
    "\n",
    "    scrip_prices = {scrip1 : fullfetch[scrip1][\"bid\"], scrip2 : fullfetch[scrip2]['ask'], scrip3 : fullfetch[scrip3]['ask']}\n",
    "    scrip_amounts = {scrip1: amount1, scrip2: amount2, scrip3: amount3}\n",
    "\n",
    "    return OP_return, scrip_prices, scrip_amounts"
   ]
  },
  {
   "cell_type": "code",
   "execution_count": null,
   "id": "411473ed",
   "metadata": {
    "pycharm": {
     "name": "#%%\n"
    }
   },
   "outputs": [],
   "source": [
    "def check_profit_loss(OP_return, initial_investment, min_profit):\n",
    "    min_profitable_price = initial_investment * 1 + min_profit\n",
    "    profit = (OP_return >= min_profitable_price)\n",
    "    return profit"
   ]
  },
  {
   "cell_type": "markdown",
   "id": "1c29dfc6",
   "metadata": {
    "pycharm": {
     "name": "#%% md\n"
    }
   },
   "source": [
    "# STEP 3: PLACE THE TRADE ORDERS"
   ]
  },
  {
   "cell_type": "code",
   "execution_count": null,
   "id": "b9e0009b",
   "metadata": {
    "pycharm": {
     "name": "#%%\n"
    }
   },
   "outputs": [],
   "source": [
    "def place_buy_order(scrip, quantity, limit):\n",
    "    order = exchange.create_limit_buy_order(scrip, quantity, limit)\n",
    "    return order\n",
    "\n",
    "def place_sell_order(scrip, quantity, limit):\n",
    "    order = exchange.create_limit_sell_order(scrip, quantity, limit)\n",
    "    return order \n",
    "\n",
    "def place_trade_orders(type, scrip1, scrip2, scrip3, initial_amount, scrip_prices):\n",
    "    final_amount = 0.0\n",
    "    if type == 'BUY_BUY_SELL':\n",
    "        s1_quantity = initial_amount/scrip_prices[scrip1]\n",
    "        place_buy_order(scrip1, s1_quantity, scrip_prices[scrip1])\n",
    "        \n",
    "        s2_quantity = s1_quantity/scrip_prices[scrip2]\n",
    "        place_buy_order(scrip2, s2_quantity, scrip_prices[scrip2])\n",
    "        \n",
    "        s3_quantity = s2_quantity\n",
    "        place_sell_order(scrip3, s3_quantity, scrip_prices[scrip3])\n",
    "        \n",
    "    elif type == 'BUY_SELL_SELL':\n",
    "        s1_quantity = initial_amount/scrip_prices[scrip1]\n",
    "        place_buy_order(scrip1, s1_quantity, scrip_prices[scrip1])\n",
    "        \n",
    "        s2_quantity = s1_quantity\n",
    "        place_sell_order(scrip2, s2_quantity, scrip_prices[scrip2])\n",
    "        \n",
    "        s3_quantity = s2_quantity * scrip_prices[scrip2]\n",
    "        place_sell_order(scrip3, s3_quantity, scrip_prices[scrip3])\n",
    "        \n",
    "        \n",
    "    return final_amount"
   ]
  },
  {
   "cell_type": "markdown",
   "id": "ad0ce6f0",
   "metadata": {
    "pycharm": {
     "name": "#%% md\n"
    }
   },
   "source": [
    "Sample order from exchange immediately after execution:   \n",
    "{'info': {'id': '2490462375', 'symbol': 'btcusdt', 'type': 'limit', 'side': 'buy', 'status': 'wait', 'price': '43201.0', 'origQty': '0.002314', 'executedQty': '0.0', 'createdTime': '1646302254000', 'updatedTime': '1646302254000'}, 'id': '2490462375', 'clientOrderId': None, 'timestamp': 1646302254000, 'datetime': '2022-03-03T10:10:54.000Z', 'lastTradeTimestamp': 1646302254000, 'status': 'open', 'symbol': 'BTC/USDT', 'type': 'limit', 'timeInForce': None, 'postOnly': None, 'side': 'buy', 'price': 43201.0, 'amount': None, 'filled': 0.0, 'remaining': None, 'cost': 0.0, 'fee': None, 'average': None, 'trades': [], 'fees': []}"
   ]
  },
  {
   "cell_type": "markdown",
   "id": "1941b358",
   "metadata": {
    "pycharm": {
     "name": "#%% md\n"
    }
   },
   "source": [
    "# STEP 4: WRAPPING IT TOGETHER"
   ]
  },
  {
   "cell_type": "code",
   "execution_count": null,
   "id": "ace320e7",
   "metadata": {
    "pycharm": {
     "name": "#%%\n"
    }
   },
   "outputs": [],
   "source": [
    "#change datetime.now() for timestamp\n",
    "\n",
    "def perform_triangular_arbitrage(scrip1, scrip2, scrip3, arbitrage_type,investment_limit, min_profit_percentage):\n",
    "    start_time = time.time()\n",
    "\n",
    "    OP_return = 0.0\n",
    "    if(arbitrage_type == 'BUY_BUY_SELL'):\n",
    "        # Check this combination for triangular arbitrage: scrip1 - BUY, scrip2 - BUY, scrip3 - SELL\n",
    "        op = check_buy_buy_sell(scrip1, scrip2, scrip3,investment_limit)\n",
    "        if not op == None:\n",
    "            OP_return, scrip_prices,scrip_amounts = op\n",
    "        else:\n",
    "            return None\n",
    "        \n",
    "    elif(arbitrage_type == 'BUY_SELL_SELL'):\n",
    "        # Check this combination for triangular arbitrage: scrip1 - BUY, scrip2 - SELL, scrip3 - SELL\n",
    "        op = check_buy_sell_sell(scrip1, scrip2, scrip3,investment_limit)\n",
    "        if not op == None:\n",
    "            OP_return, scrip_prices,scrip_amounts = op\n",
    "        else:\n",
    "            return None\n",
    "\n",
    "    profit = check_profit_loss(OP_return,scrip_amounts[scrip1], min_profit_percentage)\n",
    "    result = f\"{dt.datetime.now().strftime('%d-%b-%Y %H:%M:%S.%f')},\"\\\n",
    "            f\"{arbitrage_type}, {scrip1}, {scrip_prices[scrip1]}, {scrip_amounts[scrip1]},\"\\\n",
    "            f\"{scrip2}, {scrip_prices[scrip2]}, {scrip_amounts[scrip2]}, {scrip3}, {scrip_prices[scrip3]}, {scrip_amounts[scrip3]},\"\\\n",
    "            f\"{scrip_amounts[scrip1]}, {OP_return}, {profit}\"\n",
    "\n",
    "    if profit:\n",
    "        #place_trade_orders(arbitrage_type, scrip1, scrip2, scrip3, initial_investment, scrip_prices)\n",
    "        print(result)\n",
    "    end_time = time.time()\n",
    "    exe_time = start_time - end_time\n",
    "    result += f',{exe_time}'\n",
    "    return result"
   ]
  },
  {
   "cell_type": "markdown",
   "id": "a2529977",
   "metadata": {
    "pycharm": {
     "name": "#%% md\n"
    }
   },
   "source": [
    "### Set request strict limits"
   ]
  },
  {
   "cell_type": "code",
   "execution_count": null,
   "id": "8a83c407",
   "metadata": {
    "pycharm": {
     "name": "#%%\n"
    }
   },
   "outputs": [],
   "source": [
    "#Límites estrictos:\n",
    "#Ponderación de 1200 solicitudes por minuto (ten en cuenta que no es necesariamente lo mismo que 1200 solicitudes)\n",
    "#50 órdenes cada 10 segundos\n",
    "#160 000 órdenes cada 24 horas\n",
    "#Nuestros límites estrictos están incluidos en el punto final [/api/v3/exchangeInfo].\n",
    "placeholderTime = dt.datetime.strptime('00:00', '%H:%M')\n",
    "requestPerMin = {'start': placeholderTime , 'requests': 0}\n",
    "requestPer10sec = {'start': placeholderTime, 'end': placeholderTime, 'requests': 0}\n",
    "requestPer24h = {'start': placeholderTime, 'end': placeholderTime, 'requests': 0}\n",
    "\n",
    "limit10sec = False\n",
    "limitPerMin = False\n",
    "limitPer24H = False\n",
    "\n",
    "# Calculate average request per minute\n",
    "def AVGrequestsPerMin(requests, start, end = dt.datetime.now()):\n",
    "    print(end)\n",
    "    interval = end - start\n",
    "    print(interval)\n",
    "    try:\n",
    "        avg = round(requests/ round(interval.total_seconds()/60,0), 0)\n",
    "    except ZeroDivisionError:\n",
    "        avg = 0\n",
    "    return avg"
   ]
  },
  {
   "cell_type": "code",
   "execution_count": null,
   "id": "4649f193",
   "metadata": {
    "pycharm": {
     "name": "#%%\n"
    }
   },
   "outputs": [],
   "source": [
    "def checkLimits(verbose= False):\n",
    "    if requestPer24h['requests'] >= (160000):\n",
    "        deltaToEnd = requestPer24h['end'] - dt.datetime.now()\n",
    "        print(f'24H limit reached, spleeping {deltaToEnd} until {requestPer24h[\"end\"]}')\n",
    "        time.sleep(deltaToEnd.total_seconds())\n",
    "    elif requestPer24h['end'] < dt.datetime.now():\n",
    "        requestPer24h['start'] = dt.datetime.now()\n",
    "        requestPer24h['end'] = requestPer24h['start'] + dt.timedelta(hours= 24)\n",
    "        requestPer24h['requests'] = 0\n",
    "        if verbose == True:\n",
    "            print('24H counter reset')\n",
    "\n",
    "    if requestPer10sec['requests'] >= (50):\n",
    "        deltaToEnd = requestPer10sec['end'] - dt.datetime.now()\n",
    "        print(f'10 sec. limit reached, sleeping {deltaToEnd} until {requestPer10sec[\"end\"]}')\n",
    "        time.sleep(deltaToEnd.total_seconds())\n",
    "    elif requestPer10sec['end'] < dt.datetime.now():\n",
    "        requestPer10sec['start'] = dt.datetime.now()\n",
    "        requestPer10sec['end'] = requestPer10sec['start'] + dt.timedelta(seconds= 10)\n",
    "        requestPer10sec['requests'] = 0\n",
    "        if verbose == True:\n",
    "            print('10 sec counter reset')\n",
    "    \n",
    "    avgMin = AVGrequestsPerMin(requestPerMin['requests'],requestPerMin['start'])\n",
    "    if avgMin > 1200:\n",
    "        print(f'Request per minute limit reached, sleeping 1 minute')\n",
    "        time.sleep(60)\n",
    "    \n",
    "    if verbose == True:\n",
    "        # print limit counters\n",
    "        print(f'Limit 10 sec: {requestPer10sec[\"requests\"]}')\n",
    "        print(f'Limit min AVG: {avgMin}')\n",
    "        print(f'Limit 24h: {requestPer24h[\"requests\"]}')"
   ]
  },
  {
   "cell_type": "code",
   "execution_count": null,
   "id": "a9646500",
   "metadata": {
    "pycharm": {
     "name": "#%%\n"
    }
   },
   "outputs": [],
   "source": [
    "# brokerage commission from API included in price @ check bbs or sbb strategies\n",
    "verbose = True\n",
    "INVESTMENT_AMOUNT_DOLLARS = 100\n",
    "MIN_PROFIT_percentage = 0.01\n",
    "#BROKERAGE_PER_TRANSACTION_PERCENT = 0.2 ## taken from marketFeesDF\n",
    "\n",
    "#Start minute average counter\n",
    "requestPerMin['start'] = dt.datetime.now()\n",
    "\n",
    "while(True):\n",
    "    for combination in wx_combinations_usdt:\n",
    "\n",
    "        base = combination['base']\n",
    "        intermediate = combination['intermediate']\n",
    "        ticker = combination['ticker']\n",
    "        combination_ID = '/'.join([base, intermediate, ticker]) # Eg: \"USDT/BTC/ETH\"\n",
    "\n",
    "        s1 = f'{intermediate}/{base}'    # Eg: BTC/USDT\n",
    "        s2 = f'{ticker}/{intermediate}'  # Eg: ETH/BTC\n",
    "        s3 = f'{ticker}/{base}'          # Eg: ETH/USDT\n",
    "                \n",
    "        # check request limits and sleep if exceed\n",
    "        checkLimits(verbose=verbose)\n",
    "\n",
    "        # Check triangular arbitrage for buy-buy-sell \n",
    "        bbs = perform_triangular_arbitrage(s1,s2,s3,'BUY_BUY_SELL',INVESTMENT_AMOUNT_DOLLARS, MIN_PROFIT_percentage)\n",
    "\n",
    "        if not bbs == None:\n",
    "            with open(f'TriBot_output_{dt.datetime.today().date().strftime(\"%d%m%Y\")}.csv', 'a') as f:\n",
    "                f.write(combination_ID+','+bbs+'\\n')\n",
    "\n",
    "        # check request limits\n",
    "        checkLimits(verbose= True)\n",
    "\n",
    "        # Check triangular arbitrage for buy-sell-sell \n",
    "        bss = perform_triangular_arbitrage(s3,s2,s1,'BUY_SELL_SELL',INVESTMENT_AMOUNT_DOLLARS, MIN_PROFIT_percentage)\n",
    "        if not bss == None:\n",
    "            with open(f'TriBot_output_{dt.datetime.today().date().strftime(\"%d%m%Y\")}.csv', 'a') as f:\n",
    "                f.write(combination_ID+','+bss+'\\n')"
   ]
  }
 ],
 "metadata": {
  "interpreter": {
   "hash": "5931843693d35b1784fef052dcaef9987bd7f94f19d5618d31b6d4f130a612fd"
  },
  "kernelspec": {
   "display_name": "Python 3.9.12 ('cryptobot')",
   "language": "python",
   "name": "python3"
  },
  "language_info": {
   "codemirror_mode": {
    "name": "ipython",
    "version": 3
   },
   "file_extension": ".py",
   "mimetype": "text/x-python",
   "name": "python",
   "nbconvert_exporter": "python",
   "pygments_lexer": "ipython3",
   "version": "3.9.12"
  },
  "toc": {
   "base_numbering": 1,
   "nav_menu": {},
   "number_sections": true,
   "sideBar": true,
   "skip_h1_title": false,
   "title_cell": "Table of Contents",
   "title_sidebar": "Contents",
   "toc_cell": false,
   "toc_position": {},
   "toc_section_display": true,
   "toc_window_display": true
  }
 },
 "nbformat": 4,
 "nbformat_minor": 5
}

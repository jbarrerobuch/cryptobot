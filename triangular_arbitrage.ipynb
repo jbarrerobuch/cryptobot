{
 "cells": [
  {
   "cell_type": "markdown",
   "id": "8163280e",
   "metadata": {
    "pycharm": {
     "name": "#%% md\n"
    }
   },
   "source": [
    "# IMPORTS"
   ]
  },
  {
   "cell_type": "code",
   "execution_count": 1,
   "id": "6cd06700",
   "metadata": {
    "pycharm": {
     "name": "#%%\n"
    }
   },
   "outputs": [],
   "source": [
    "import ccxt\n",
    "import pandas as pd\n",
    "import time\n",
    "import datetime as dt\n",
    "from config import myconfig"
   ]
  },
  {
   "cell_type": "markdown",
   "id": "8a2503c0",
   "metadata": {
    "pycharm": {
     "name": "#%% md\n"
    }
   },
   "source": [
    "# INITIALIZE"
   ]
  },
  {
   "cell_type": "code",
   "execution_count": 2,
   "id": "c7f4b408",
   "metadata": {
    "pycharm": {
     "name": "#%%\n"
    }
   },
   "outputs": [],
   "source": [
    "exchange = ccxt.binance({\n",
    "    \"apiKey\": myconfig.API_KEY,\n",
    "    \"secret\": myconfig.API_SECRET\n",
    "})"
   ]
  },
  {
   "cell_type": "markdown",
   "id": "af6156b2",
   "metadata": {
    "pycharm": {
     "name": "#%% md\n"
    }
   },
   "source": [
    "# GET MARKET FEES"
   ]
  },
  {
   "cell_type": "code",
   "execution_count": 3,
   "id": "6d8818d8",
   "metadata": {
    "pycharm": {
     "name": "#%%\n"
    }
   },
   "outputs": [],
   "source": [
    "marketFees = exchange.fetch_fees()['trading']"
   ]
  },
  {
   "cell_type": "code",
   "execution_count": 4,
   "id": "75293eb8",
   "metadata": {
    "pycharm": {
     "name": "#%%\n"
    }
   },
   "outputs": [],
   "source": [
    "marketFeesDF = pd.DataFrame.from_dict(marketFees, orient= 'index').drop(columns= 'info')"
   ]
  },
  {
   "cell_type": "markdown",
   "id": "dd36cb5a",
   "metadata": {
    "pycharm": {
     "name": "#%% md\n"
    }
   },
   "source": [
    "# GET MARKETS"
   ]
  },
  {
   "cell_type": "code",
   "execution_count": 5,
   "id": "56e96905",
   "metadata": {
    "pycharm": {
     "name": "#%%\n"
    }
   },
   "outputs": [
    {
     "name": "stdout",
     "output_type": "stream",
     "text": [
      "No. of market symbols: 2039\n",
      "Sample:['ETH/BTC', 'LTC/BTC', 'BNB/BTC', 'NEO/BTC', 'QTUM/ETH']\n"
     ]
    }
   ],
   "source": [
    "markets = exchange.fetchMarkets()\n",
    "market_symbols = [market['symbol'] for market in markets]\n",
    "print(f'No. of market symbols: {len(market_symbols)}')\n",
    "print(f'Sample:{market_symbols[0:5]}')"
   ]
  },
  {
   "cell_type": "code",
   "execution_count": 6,
   "id": "23d942c8",
   "metadata": {
    "pycharm": {
     "name": "#%%\n"
    }
   },
   "outputs": [],
   "source": [
    "markets_df = pd.DataFrame.from_dict(markets)\n",
    "markets_df =  markets_df.loc[markets_df['active'] == True] # Drop inactive markets\n",
    "markets_df.set_index('id', verify_integrity= True, inplace= True)"
   ]
  },
  {
   "cell_type": "code",
   "execution_count": 7,
   "id": "17fc82eb",
   "metadata": {
    "pycharm": {
     "name": "#%%\n"
    }
   },
   "outputs": [
    {
     "data": {
      "text/html": [
       "<div>\n",
       "<style scoped>\n",
       "    .dataframe tbody tr th:only-of-type {\n",
       "        vertical-align: middle;\n",
       "    }\n",
       "\n",
       "    .dataframe tbody tr th {\n",
       "        vertical-align: top;\n",
       "    }\n",
       "\n",
       "    .dataframe thead th {\n",
       "        text-align: right;\n",
       "    }\n",
       "</style>\n",
       "<table border=\"1\" class=\"dataframe\">\n",
       "  <thead>\n",
       "    <tr style=\"text-align: right;\">\n",
       "      <th></th>\n",
       "      <th>lowercaseId</th>\n",
       "      <th>symbol</th>\n",
       "      <th>base</th>\n",
       "      <th>quote</th>\n",
       "      <th>type</th>\n",
       "      <th>spot</th>\n",
       "      <th>active</th>\n",
       "      <th>taker</th>\n",
       "      <th>maker</th>\n",
       "    </tr>\n",
       "    <tr>\n",
       "      <th>id</th>\n",
       "      <th></th>\n",
       "      <th></th>\n",
       "      <th></th>\n",
       "      <th></th>\n",
       "      <th></th>\n",
       "      <th></th>\n",
       "      <th></th>\n",
       "      <th></th>\n",
       "      <th></th>\n",
       "    </tr>\n",
       "  </thead>\n",
       "  <tbody>\n",
       "    <tr>\n",
       "      <th>ETHBTC</th>\n",
       "      <td>ethbtc</td>\n",
       "      <td>ETH/BTC</td>\n",
       "      <td>ETH</td>\n",
       "      <td>BTC</td>\n",
       "      <td>spot</td>\n",
       "      <td>True</td>\n",
       "      <td>True</td>\n",
       "      <td>0.001</td>\n",
       "      <td>0.001</td>\n",
       "    </tr>\n",
       "    <tr>\n",
       "      <th>LTCBTC</th>\n",
       "      <td>ltcbtc</td>\n",
       "      <td>LTC/BTC</td>\n",
       "      <td>LTC</td>\n",
       "      <td>BTC</td>\n",
       "      <td>spot</td>\n",
       "      <td>True</td>\n",
       "      <td>True</td>\n",
       "      <td>0.001</td>\n",
       "      <td>0.001</td>\n",
       "    </tr>\n",
       "    <tr>\n",
       "      <th>BNBBTC</th>\n",
       "      <td>bnbbtc</td>\n",
       "      <td>BNB/BTC</td>\n",
       "      <td>BNB</td>\n",
       "      <td>BTC</td>\n",
       "      <td>spot</td>\n",
       "      <td>True</td>\n",
       "      <td>True</td>\n",
       "      <td>0.001</td>\n",
       "      <td>0.001</td>\n",
       "    </tr>\n",
       "    <tr>\n",
       "      <th>NEOBTC</th>\n",
       "      <td>neobtc</td>\n",
       "      <td>NEO/BTC</td>\n",
       "      <td>NEO</td>\n",
       "      <td>BTC</td>\n",
       "      <td>spot</td>\n",
       "      <td>True</td>\n",
       "      <td>True</td>\n",
       "      <td>0.001</td>\n",
       "      <td>0.001</td>\n",
       "    </tr>\n",
       "    <tr>\n",
       "      <th>QTUMETH</th>\n",
       "      <td>qtumeth</td>\n",
       "      <td>QTUM/ETH</td>\n",
       "      <td>QTUM</td>\n",
       "      <td>ETH</td>\n",
       "      <td>spot</td>\n",
       "      <td>True</td>\n",
       "      <td>True</td>\n",
       "      <td>0.001</td>\n",
       "      <td>0.001</td>\n",
       "    </tr>\n",
       "  </tbody>\n",
       "</table>\n",
       "</div>"
      ],
      "text/plain": [
       "        lowercaseId    symbol  base quote  type  spot  active  taker  maker\n",
       "id                                                                         \n",
       "ETHBTC       ethbtc   ETH/BTC   ETH   BTC  spot  True    True  0.001  0.001\n",
       "LTCBTC       ltcbtc   LTC/BTC   LTC   BTC  spot  True    True  0.001  0.001\n",
       "BNBBTC       bnbbtc   BNB/BTC   BNB   BTC  spot  True    True  0.001  0.001\n",
       "NEOBTC       neobtc   NEO/BTC   NEO   BTC  spot  True    True  0.001  0.001\n",
       "QTUMETH     qtumeth  QTUM/ETH  QTUM   ETH  spot  True    True  0.001  0.001"
      ]
     },
     "execution_count": 7,
     "metadata": {},
     "output_type": "execute_result"
    }
   ],
   "source": [
    "spot_market = markets_df[markets_df.type == 'spot']\n",
    "spot_market.drop(columns=[\n",
    "    'delivery', 'option', 'contract', 'linear',\n",
    "    'inverse', 'contractSize', 'expiry',\n",
    "    'expiryDatetime', 'margin', 'swap', 'future', 'strike',\n",
    "    'optionType', 'precision', 'limits', 'info', 'settleId', 'settle', 'baseId', 'quoteId'], inplace= True)\n",
    "spot_market.head()"
   ]
  },
  {
   "cell_type": "code",
   "execution_count": 8,
   "id": "e008dc2e",
   "metadata": {
    "pycharm": {
     "name": "#%%\n"
    }
   },
   "outputs": [
    {
     "data": {
      "text/plain": [
       "1469"
      ]
     },
     "execution_count": 8,
     "metadata": {},
     "output_type": "execute_result"
    }
   ],
   "source": [
    "spot_symbols = list(spot_market.symbol)\n",
    "len(spot_symbols)"
   ]
  },
  {
   "cell_type": "markdown",
   "id": "05093ee2",
   "metadata": {
    "pycharm": {
     "name": "#%% md\n"
    }
   },
   "source": [
    "# STEP 1: GET ALL THE CRYPTO COMBINATIONS FOR USDT"
   ]
  },
  {
   "cell_type": "code",
   "execution_count": 9,
   "id": "2ce8ac7c",
   "metadata": {
    "pycharm": {
     "name": "#%%\n"
    }
   },
   "outputs": [],
   "source": [
    "def get_crypto_combinations(market_symbols, base):\n",
    "    combinations = []\n",
    "    for sym1 in market_symbols:\n",
    "        \n",
    "        sym1_token1 = sym1.split('/')[0]\n",
    "        sym1_token2 = sym1.split('/')[1]\n",
    "        \n",
    "        if (sym1_token2 == base):\n",
    "            for sym2 in market_symbols:\n",
    "                sym2_token1 = sym2.split('/')[0]\n",
    "                sym2_token2 = sym2.split('/')[1]\n",
    "                if (sym1_token1 == sym2_token2):\n",
    "                    for sym3 in market_symbols:\n",
    "                        sym3_token1 = sym3.split('/')[0]\n",
    "                        sym3_token2 = sym3.split('/')[1]\n",
    "                        if((sym2_token1 == sym3_token1) and (sym3_token2 == sym1_token2)):\n",
    "                            combination = {\n",
    "                                'base':sym1_token2,\n",
    "                                'intermediate':sym1_token1,\n",
    "                                'ticker':sym2_token1,\n",
    "                            }\n",
    "                            combinations.append(combination)\n",
    "                \n",
    "\n",
    "    return combinations\n",
    "        \n",
    "wx_combinations_usdt = get_crypto_combinations(spot_symbols,'USDT')\n"
   ]
  },
  {
   "cell_type": "code",
   "execution_count": 10,
   "id": "59458297",
   "metadata": {
    "pycharm": {
     "name": "#%%\n"
    }
   },
   "outputs": [
    {
     "name": "stdout",
     "output_type": "stream",
     "text": [
      "No. of crypto combinations: 922\n"
     ]
    },
    {
     "data": {
      "text/html": [
       "<div>\n",
       "<style scoped>\n",
       "    .dataframe tbody tr th:only-of-type {\n",
       "        vertical-align: middle;\n",
       "    }\n",
       "\n",
       "    .dataframe tbody tr th {\n",
       "        vertical-align: top;\n",
       "    }\n",
       "\n",
       "    .dataframe thead th {\n",
       "        text-align: right;\n",
       "    }\n",
       "</style>\n",
       "<table border=\"1\" class=\"dataframe\">\n",
       "  <thead>\n",
       "    <tr style=\"text-align: right;\">\n",
       "      <th></th>\n",
       "      <th>base</th>\n",
       "      <th>intermediate</th>\n",
       "      <th>ticker</th>\n",
       "    </tr>\n",
       "  </thead>\n",
       "  <tbody>\n",
       "    <tr>\n",
       "      <th>0</th>\n",
       "      <td>USDT</td>\n",
       "      <td>BTC</td>\n",
       "      <td>ETH</td>\n",
       "    </tr>\n",
       "    <tr>\n",
       "      <th>1</th>\n",
       "      <td>USDT</td>\n",
       "      <td>BTC</td>\n",
       "      <td>LTC</td>\n",
       "    </tr>\n",
       "    <tr>\n",
       "      <th>2</th>\n",
       "      <td>USDT</td>\n",
       "      <td>BTC</td>\n",
       "      <td>BNB</td>\n",
       "    </tr>\n",
       "    <tr>\n",
       "      <th>3</th>\n",
       "      <td>USDT</td>\n",
       "      <td>BTC</td>\n",
       "      <td>NEO</td>\n",
       "    </tr>\n",
       "    <tr>\n",
       "      <th>4</th>\n",
       "      <td>USDT</td>\n",
       "      <td>BTC</td>\n",
       "      <td>WTC</td>\n",
       "    </tr>\n",
       "  </tbody>\n",
       "</table>\n",
       "</div>"
      ],
      "text/plain": [
       "   base intermediate ticker\n",
       "0  USDT          BTC    ETH\n",
       "1  USDT          BTC    LTC\n",
       "2  USDT          BTC    BNB\n",
       "3  USDT          BTC    NEO\n",
       "4  USDT          BTC    WTC"
      ]
     },
     "execution_count": 10,
     "metadata": {},
     "output_type": "execute_result"
    }
   ],
   "source": [
    "print(f'No. of crypto combinations: {len(wx_combinations_usdt)}')\n",
    "\n",
    "cominations_df = pd.DataFrame(wx_combinations_usdt)\n",
    "cominations_df.head()"
   ]
  },
  {
   "cell_type": "markdown",
   "id": "0af31255",
   "metadata": {
    "pycharm": {
     "name": "#%% md\n"
    }
   },
   "source": [
    "# STEP 2: PERFORM TRIANGULAR ARBITRAGE"
   ]
  },
  {
   "cell_type": "markdown",
   "id": "cc826251",
   "metadata": {
    "pycharm": {
     "name": "#%% md\n"
    }
   },
   "source": [
    "## Utility method to fetch the current ticker price"
   ]
  },
  {
   "cell_type": "code",
   "execution_count": 11,
   "id": "79446407",
   "metadata": {
    "pycharm": {
     "name": "#%%\n"
    }
   },
   "outputs": [
    {
     "data": {
      "text/plain": [
       "{'ETH/USDT': {'symbol': 'ETH/USDT',\n",
       "  'timestamp': None,\n",
       "  'datetime': None,\n",
       "  'high': None,\n",
       "  'low': None,\n",
       "  'bid': 2688.86,\n",
       "  'bidVolume': 31.0099,\n",
       "  'ask': 2688.87,\n",
       "  'askVolume': 1.8062,\n",
       "  'vwap': None,\n",
       "  'open': None,\n",
       "  'close': None,\n",
       "  'last': None,\n",
       "  'previousClose': None,\n",
       "  'change': None,\n",
       "  'percentage': None,\n",
       "  'average': None,\n",
       "  'baseVolume': None,\n",
       "  'quoteVolume': None,\n",
       "  'info': {'symbol': 'ETHUSDT',\n",
       "   'bidPrice': '2688.86000000',\n",
       "   'bidQty': '31.00990000',\n",
       "   'askPrice': '2688.87000000',\n",
       "   'askQty': '1.80620000'}}}"
      ]
     },
     "execution_count": 11,
     "metadata": {},
     "output_type": "execute_result"
    }
   ],
   "source": [
    "def fetch_current_ticker_price(tickerList, limiters= True):\n",
    "    bidAsk = exchange.fetch_bids_asks(symbols= tickerList)\n",
    "\n",
    "    # add 1 to limit counters\n",
    "    if limiters:\n",
    "        requestPer10sec['requests'] += 1\n",
    "        requestPerMin['requests'] += 1\n",
    "        requestPer24h['requests'] += 1\n",
    "\n",
    "    #if operation == 'buy':\n",
    "    #    return (bidAsk[ticker]['ask'], bidAsk[ticker]['askVolume'])\n",
    "    #else:\n",
    "    #    return (bidAsk[ticker]['bid'], bidAsk[ticker]['bidVolume'])\n",
    "    return bidAsk\n",
    "\n",
    "fetch_current_ticker_price('ETH/USDT', limiters= False)"
   ]
  },
  {
   "cell_type": "code",
   "execution_count": 12,
   "id": "5d94d747",
   "metadata": {
    "pycharm": {
     "name": "#%%\n"
    }
   },
   "outputs": [
    {
     "name": "stdout",
     "output_type": "stream",
     "text": [
      "BTC/USDT: 35942.4/0.6519 - 35942.41/12.12081\n",
      "ETH/BTC: 0.074812/25.9491 - 0.074813/14.7546\n",
      "ETH/USDT: 2688.86/16.3346 - 2688.87/95.4035\n",
      "Max inv: 100, vol1 23430.850560000003, vol2 1.9413040692, vol3 256527.60904499996\n",
      "amount to buy 100\n",
      "amount2 to buy: 0.0027822293447293447\n",
      "amount3 to sell 0.037189613226879976\n",
      "OP Result 99.99803531736076\n"
     ]
    }
   ],
   "source": [
    "investmentLimit = 100\n",
    "scrip1 = 'BTC/USDT'\n",
    "scrip2 = 'ETH/BTC'\n",
    "scrip3 = 'ETH/USDT'\n",
    "fullfetch = fetch_current_ticker_price([scrip1, scrip2, scrip3], limiters= False)\n",
    "\n",
    "vol1 = fullfetch[scrip1]['bid']*fullfetch[scrip1]['bidVolume']\n",
    "vol2 = fullfetch[scrip2]['bid']*fullfetch[scrip2]['bidVolume']\n",
    "vol3 = fullfetch[scrip3]['ask']*fullfetch[scrip3]['askVolume']\n",
    "print(f'{scrip1}: {fullfetch[scrip1][\"bid\"]}/{fullfetch[scrip1][\"bidVolume\"]} - {fullfetch[scrip1][\"ask\"]}/{fullfetch[scrip1][\"askVolume\"]}')\n",
    "print(f'{scrip2}: {fullfetch[scrip2][\"bid\"]}/{fullfetch[scrip2][\"bidVolume\"]} - {fullfetch[scrip2][\"ask\"]}/{fullfetch[scrip2][\"askVolume\"]}')\n",
    "print(f'{scrip3}: {fullfetch[scrip3][\"bid\"]}/{fullfetch[scrip3][\"bidVolume\"]} - {fullfetch[scrip3][\"ask\"]}/{fullfetch[scrip3][\"askVolume\"]}')\n",
    "print(f'Max inv: {investmentLimit}, vol1 {vol1}, vol2 {vol2}, vol3 {vol3}')\n",
    "if investmentLimit > vol1:\n",
    "    amount1 = vol1\n",
    "    print(f'Max inv reached to buy {amount1}')\n",
    "else:\n",
    "    amount1 = investmentLimit\n",
    "    print(f'amount to buy {amount1}')\n",
    "amount2 = amount1/fullfetch[scrip1]['bid']\n",
    "print(f'amount2 to buy: {amount2}')\n",
    "if amount2 > vol2:\n",
    "    amount2 = vol2\n",
    "    amount1 = amount2 * fullfetch[scrip1]['bid']\n",
    "    print(f'Max amount2 reached to buy {amount2}, amount1 {amount1}')\n",
    "\n",
    "amount3 = amount2 / fullfetch[scrip2]['bid']\n",
    "print(f'amount3 to sell {amount3}')\n",
    "if amount3 > vol3:\n",
    "    amount3 = vol3\n",
    "    amount2 = amount3 * fullfetch[scrip2]['bid']\n",
    "    amount1 = amount2 * fullfetch[scrip1]['bid']\n",
    "    print(f'Max amount3 reached to sell {amount3}, amount2 {amount2}, amount1 {amount1}')\n",
    "\n",
    "print('OP Result',amount3 * fullfetch[scrip3]['ask'])"
   ]
  },
  {
   "cell_type": "markdown",
   "id": "f270fc12",
   "metadata": {
    "pycharm": {
     "name": "#%% md\n"
    }
   },
   "source": [
    "## Triangular Arbitrage"
   ]
  },
  {
   "cell_type": "code",
   "execution_count": 13,
   "id": "fb64f406",
   "metadata": {
    "pycharm": {
     "name": "#%%\n"
    }
   },
   "outputs": [],
   "source": [
    "def check_buy_buy_sell(scrip1, scrip2, scrip3,investment_limit):\n",
    "    \n",
    "    fullfetch = fetch_current_ticker_price([scrip1, scrip2, scrip3])\n",
    "    if verbose == True:\n",
    "        print(f'{scrip1}: {fullfetch[scrip1][\"bid\"]}/{fullfetch[scrip1][\"bidVolume\"]} - {fullfetch[scrip1][\"ask\"]}/{fullfetch[scrip1][\"askVolume\"]}')\n",
    "        print(f'{scrip2}: {fullfetch[scrip2][\"bid\"]}/{fullfetch[scrip2][\"bidVolume\"]} - {fullfetch[scrip2][\"ask\"]}/{fullfetch[scrip2][\"askVolume\"]}')\n",
    "        print(f'{scrip3}: {fullfetch[scrip3][\"bid\"]}/{fullfetch[scrip3][\"bidVolume\"]} - {fullfetch[scrip3][\"ask\"]}/{fullfetch[scrip3][\"askVolume\"]}')\n",
    "\n",
    "    # Vol analysis for OP size and PNL\n",
    "    vol1 = fullfetch[scrip1]['bid']*fullfetch[scrip1]['bidVolume']\n",
    "    vol2 = fullfetch[scrip2]['bid']*fullfetch[scrip2]['bidVolume']\n",
    "    vol3 = fullfetch[scrip3]['ask']*fullfetch[scrip3]['askVolume']\n",
    "\n",
    "    if verbose: print(f'Max inv: {investmentLimit}')\n",
    "    #Check volume of asset 1 is greater than investment limit\n",
    "    if investmentLimit > vol1:\n",
    "        amount1 = vol1\n",
    "        if verbose: print(f'Max inv reached to buy {amount1}')\n",
    "    else:\n",
    "        amount1 = investmentLimit\n",
    "        if verbose: print(f'amount to buy {amount1}')\n",
    "\n",
    "    #Check volume of asset 2 is greater than investment limit\n",
    "    amount2 = round(amount1/fullfetch[scrip1]['bid'] * (1+marketFeesDF.loc[scrip1]['taker']), 8) #include commission in price\n",
    "    if verbose: print(f'amount2 to buy: {amount2}')\n",
    "    if amount2 > vol2:\n",
    "        amount2 = vol2\n",
    "        amount1 = round(amount2 * fullfetch[scrip1]['bid'] * (1-marketFeesDF.loc[scrip1]['taker']), 8) #include commission in price\n",
    "        if verbose: print(f'Max amount2 reached to buy {amount2}, amount1 {amount1}')\n",
    "        \n",
    "    #Check volume of asset 2 is greater than investment limit\n",
    "    amount3 = round(amount2 / fullfetch[scrip2]['bid'] * (1+marketFeesDF.loc[scrip2]['taker']), 8)\n",
    "    if verbose: print(f'amount3 to sell {amount3}')\n",
    "    if amount3 > vol3:\n",
    "        amount3 = vol3\n",
    "        amount2 = round(amount3 * fullfetch[scrip2]['bid'] * (1-marketFeesDF.loc[scrip2]['taker']), 8)\n",
    "        amount1 = round(amount2 * fullfetch[scrip1]['bid'] * (1-marketFeesDF.loc[scrip1]['taker']), 8)\n",
    "        if verbose: print(f'Max amount3 reached to sell {amount3}, amount2 {amount2}, amount1 {amount1}')\n",
    "    \n",
    "    OP_return = round(amount3 * fullfetch[scrip3]['ask'] * (1-marketFeesDF.loc[scrip3]['taker']),8) #include commission in price\n",
    "    if verbose: print('OP Return', OP_return)\n",
    "\n",
    "    scrip_prices = {scrip1 : fullfetch[scrip1][\"bid\"], scrip2 : fullfetch[scrip2]['bid'], scrip3 : fullfetch[scrip3]['ask']}\n",
    "    scrip_amounts = {scrip1: amount1, scrip2: amount2, scrip3: amount3}\n",
    "\n",
    "    return OP_return, scrip_prices, scrip_amounts"
   ]
  },
  {
   "cell_type": "code",
   "execution_count": 14,
   "id": "5cced8ba",
   "metadata": {
    "pycharm": {
     "name": "#%%\n"
    }
   },
   "outputs": [],
   "source": [
    "def check_buy_sell_sell(scrip1, scrip2, scrip3,investment_limit):\n",
    "        \n",
    "    fullfetch = fetch_current_ticker_price([scrip1, scrip2, scrip3])\n",
    "    if verbose == True:\n",
    "        print(f'{scrip1}: {fullfetch[scrip1][\"bid\"]}/{fullfetch[scrip1][\"bidVolume\"]} - {fullfetch[scrip1][\"ask\"]}/{fullfetch[scrip1][\"askVolume\"]}')\n",
    "        print(f'{scrip2}: {fullfetch[scrip2][\"bid\"]}/{fullfetch[scrip2][\"bidVolume\"]} - {fullfetch[scrip2][\"ask\"]}/{fullfetch[scrip2][\"askVolume\"]}')\n",
    "        print(f'{scrip3}: {fullfetch[scrip3][\"bid\"]}/{fullfetch[scrip3][\"bidVolume\"]} - {fullfetch[scrip3][\"ask\"]}/{fullfetch[scrip3][\"askVolume\"]}')\n",
    "\n",
    "    # Vol analysis for OP size and PNL - FIT CODE\n",
    "    vol1 = fullfetch[scrip1]['bid']*fullfetch[scrip1]['bidVolume']\n",
    "    vol2 = fullfetch[scrip2]['ask']*fullfetch[scrip2]['bidVolume']\n",
    "    vol3 = fullfetch[scrip3]['ask']*fullfetch[scrip3]['askVolume']\n",
    "\n",
    "    if verbose: print(f'Max inv: {investmentLimit}')\n",
    "    #Check volume of asset 1 is greater than investment limit\n",
    "    if investmentLimit > vol1:\n",
    "        amount1 = vol1\n",
    "        if verbose: print(f'Max inv reached to buy {amount1}')\n",
    "    else:\n",
    "        amount1 = investmentLimit\n",
    "        if verbose: print(f'amount to buy is inves {amount1}')\n",
    "\n",
    "    #Check volume of asset 2 is greater than investment limit\n",
    "    amount2 = round(amount1/fullfetch[scrip1]['bid'] * (1+marketFeesDF.loc[scrip1]['taker']), 8) #include commission in price\n",
    "    if verbose: print(f'amount2 to buy: {amount2}')\n",
    "    if amount2 > vol2:\n",
    "        amount2 = vol2\n",
    "        amount1 = round(amount2 * fullfetch[scrip1]['bid'] * (1-marketFeesDF.loc[scrip1]['taker']), 8) #include commission in price\n",
    "        if verbose: print(f'Max amount2 reached to buy {amount2}, amount1 {amount1}')\n",
    "        \n",
    "    #Check volume of asset 2 is greater than investment limit\n",
    "    amount3 = round(amount2 * fullfetch[scrip2]['ask'] * (1-marketFeesDF.loc[scrip2]['taker']), 8)\n",
    "    if verbose: print(f'amount3 to sell {amount3}')\n",
    "    if amount3 > vol3:\n",
    "        amount3 = vol3\n",
    "        amount2 = round(amount3 / fullfetch[scrip2]['bid'] * (1+marketFeesDF.loc[scrip2]['taker']), 8)\n",
    "        amount1 = round(amount2 * fullfetch[scrip1]['bid'] * (1-marketFeesDF.loc[scrip1]['taker']), 8)\n",
    "        if verbose: print(f'Max amount3 reached to sell {amount3}, amount2 {amount2}, amount1 {amount1}')\n",
    "    \n",
    "    OP_return = round(amount3 * fullfetch[scrip3]['ask'] * (1-marketFeesDF.loc[scrip3]['taker']),8) #include commission in price\n",
    "    if verbose: print('OP Return', OP_return)\n",
    "\n",
    "    scrip_prices = {scrip1 : fullfetch[scrip1][\"bid\"], scrip2 : fullfetch[scrip2]['ask'], scrip3 : fullfetch[scrip3]['ask']}\n",
    "    scrip_amounts = {scrip1: amount1, scrip2: amount2, scrip3: amount3}\n",
    "\n",
    "    return OP_return, scrip_prices, scrip_amounts"
   ]
  },
  {
   "cell_type": "code",
   "execution_count": 15,
   "id": "411473ed",
   "metadata": {
    "pycharm": {
     "name": "#%%\n"
    }
   },
   "outputs": [],
   "source": [
    "def check_profit_loss(OP_return, initial_investment, min_profit):\n",
    "    min_profitable_price = initial_investment * 1 + min_profit\n",
    "    profit = (OP_return >= min_profitable_price)\n",
    "    return profit"
   ]
  },
  {
   "cell_type": "markdown",
   "id": "1c29dfc6",
   "metadata": {
    "pycharm": {
     "name": "#%% md\n"
    }
   },
   "source": [
    "# STEP 3: PLACE THE TRADE ORDERS"
   ]
  },
  {
   "cell_type": "code",
   "execution_count": 16,
   "id": "b9e0009b",
   "metadata": {
    "pycharm": {
     "name": "#%%\n"
    }
   },
   "outputs": [],
   "source": [
    "def place_buy_order(scrip, quantity, limit):\n",
    "    order = exchange.create_limit_buy_order(scrip, quantity, limit)\n",
    "    return order\n",
    "\n",
    "def place_sell_order(scrip, quantity, limit):\n",
    "    order = exchange.create_limit_sell_order(scrip, quantity, limit)\n",
    "    return order \n",
    "\n",
    "def place_trade_orders(type, scrip1, scrip2, scrip3, initial_amount, scrip_prices):\n",
    "    final_amount = 0.0\n",
    "    if type == 'BUY_BUY_SELL':\n",
    "        s1_quantity = initial_amount/scrip_prices[scrip1]\n",
    "        place_buy_order(scrip1, s1_quantity, scrip_prices[scrip1])\n",
    "        \n",
    "        s2_quantity = s1_quantity/scrip_prices[scrip2]\n",
    "        place_buy_order(scrip2, s2_quantity, scrip_prices[scrip2])\n",
    "        \n",
    "        s3_quantity = s2_quantity\n",
    "        place_sell_order(scrip3, s3_quantity, scrip_prices[scrip3])\n",
    "        \n",
    "    elif type == 'BUY_SELL_SELL':\n",
    "        s1_quantity = initial_amount/scrip_prices[scrip1]\n",
    "        place_buy_order(scrip1, s1_quantity, scrip_prices[scrip1])\n",
    "        \n",
    "        s2_quantity = s1_quantity\n",
    "        place_sell_order(scrip2, s2_quantity, scrip_prices[scrip2])\n",
    "        \n",
    "        s3_quantity = s2_quantity * scrip_prices[scrip2]\n",
    "        place_sell_order(scrip3, s3_quantity, scrip_prices[scrip3])\n",
    "        \n",
    "        \n",
    "    return final_amount"
   ]
  },
  {
   "cell_type": "markdown",
   "id": "ad0ce6f0",
   "metadata": {
    "pycharm": {
     "name": "#%% md\n"
    }
   },
   "source": [
    "Sample order from exchange immediately after execution:   \n",
    "{'info': {'id': '2490462375', 'symbol': 'btcusdt', 'type': 'limit', 'side': 'buy', 'status': 'wait', 'price': '43201.0', 'origQty': '0.002314', 'executedQty': '0.0', 'createdTime': '1646302254000', 'updatedTime': '1646302254000'}, 'id': '2490462375', 'clientOrderId': None, 'timestamp': 1646302254000, 'datetime': '2022-03-03T10:10:54.000Z', 'lastTradeTimestamp': 1646302254000, 'status': 'open', 'symbol': 'BTC/USDT', 'type': 'limit', 'timeInForce': None, 'postOnly': None, 'side': 'buy', 'price': 43201.0, 'amount': None, 'filled': 0.0, 'remaining': None, 'cost': 0.0, 'fee': None, 'average': None, 'trades': [], 'fees': []}"
   ]
  },
  {
   "cell_type": "markdown",
   "id": "1941b358",
   "metadata": {
    "pycharm": {
     "name": "#%% md\n"
    }
   },
   "source": [
    "# STEP 4: WRAPPING IT TOGETHER"
   ]
  },
  {
   "cell_type": "code",
   "execution_count": 36,
   "id": "ace320e7",
   "metadata": {
    "pycharm": {
     "name": "#%%\n"
    }
   },
   "outputs": [],
   "source": [
    "#change datetime.now() for timestamp\n",
    "\n",
    "def perform_triangular_arbitrage(scrip1, scrip2, scrip3, arbitrage_type,investment_limit, min_profit_percentage):\n",
    "    start_time = time.time()\n",
    "\n",
    "    OP_return = 0.0\n",
    "    if(arbitrage_type == 'BUY_BUY_SELL'):\n",
    "        # Check this combination for triangular arbitrage: scrip1 - BUY, scrip2 - BUY, scrip3 - SELL\n",
    "        OP_return, scrip_prices,scrip_amounts = check_buy_buy_sell(scrip1, scrip2, scrip3,investment_limit)\n",
    "        \n",
    "    elif(arbitrage_type == 'BUY_SELL_SELL'):\n",
    "        # Check this combination for triangular arbitrage: scrip1 - BUY, scrip2 - SELL, scrip3 - SELL\n",
    "        OP_return, scrip_prices,scrip_amounts = check_buy_sell_sell(scrip1, scrip2, scrip3,investment_limit)\n",
    "        \n",
    "    profit = check_profit_loss(OP_return,scrip_amounts[scrip1], min_profit_percentage)\n",
    "    \n",
    "    result = f\"{dt.datetime.now().strftime('%d-%b-%Y %H:%M:%S.%f')},\\\n",
    "            {arbitrage_type}, {scrip1}, {scrip_prices[scrip1]}, {scrip_amounts[scrip1]},\\\n",
    "            {scrip2}, {scrip_prices[scrip2]}, {scrip_amounts[scrip2]}, {scrip3}, {scrip_prices[scrip3]}, {scrip_amounts[scrip3]},\\\n",
    "            {scrip_amounts[scrip1]}, {OP_return}, {profit}\"\n",
    "\n",
    "    if profit:\n",
    "        #place_trade_orders(arbitrage_type, scrip1, scrip2, scrip3, initial_investment, scrip_prices)\n",
    "        print(result)\n",
    "    end_time = time.time()\n",
    "    exe_time = start_time - end_time\n",
    "    result += f',{exe_time}'\n",
    "    return result"
   ]
  },
  {
   "cell_type": "markdown",
   "id": "a2529977",
   "metadata": {
    "pycharm": {
     "name": "#%% md\n"
    }
   },
   "source": [
    "### Set request strict limits"
   ]
  },
  {
   "cell_type": "code",
   "execution_count": 29,
   "id": "8a83c407",
   "metadata": {
    "pycharm": {
     "name": "#%%\n"
    }
   },
   "outputs": [],
   "source": [
    "#Límites estrictos:\n",
    "#Ponderación de 1200 solicitudes por minuto (ten en cuenta que no es necesariamente lo mismo que 1200 solicitudes)\n",
    "#50 órdenes cada 10 segundos\n",
    "#160 000 órdenes cada 24 horas\n",
    "#Nuestros límites estrictos están incluidos en el punto final [/api/v3/exchangeInfo].\n",
    "placeholderTime = dt.datetime.strptime('00:00', '%H:%M')\n",
    "requestPerMin = {'start': placeholderTime , 'end': placeholderTime, 'requests': 0}\n",
    "requestPer10sec = {'start': placeholderTime, 'end': placeholderTime, 'requests': 0}\n",
    "requestPer24h = {'start': placeholderTime, 'end': placeholderTime, 'requests': 0}\n",
    "\n",
    "limit10sec = False\n",
    "limitPerMin = False\n",
    "limitPer24H = False\n",
    "\n",
    "# Calculate average request per minute\n",
    "def AVGrequestsPerMin(requests, start, end = dt.datetime.now()):\n",
    "    interval = end - start\n",
    "    avg = round(requests/ round(interval.total_seconds()/60,0), 0)\n",
    "    return avg"
   ]
  },
  {
   "cell_type": "code",
   "execution_count": 30,
   "id": "4649f193",
   "metadata": {
    "pycharm": {
     "name": "#%%\n"
    }
   },
   "outputs": [],
   "source": [
    "def checkLimits(verbose= False):\n",
    "    if requestPer24h['requests'] > (160000-3):\n",
    "        deltaToEnd = requestPer24h['end'] - dt.datetime.now()\n",
    "        print(f'24H limit reached, spleeping {deltaToEnd} until {requestPer24h[\"end\"]}')\n",
    "        time.sleep(deltaToEnd.total_seconds())\n",
    "    elif requestPer24h['end'] < dt.datetime.now():\n",
    "        requestPer24h['start'] = dt.datetime.now()\n",
    "        requestPer24h['end'] = requestPer24h['start'] + dt.timedelta(hours= 24)\n",
    "        requestPer24h['requests'] = 0\n",
    "        if verbose == True:\n",
    "            print('24H counter reset')\n",
    "\n",
    "    if requestPer10sec['requests'] > (50-3):\n",
    "        deltaToEnd = requestPer10sec['end'] - dt.datetime.now()\n",
    "        print(f'10 sec. limit reached, sleeping {deltaToEnd} until {requestPer10sec[\"end\"]}')\n",
    "        time.sleep(deltaToEnd.total_seconds())\n",
    "    elif requestPer10sec['end'] < dt.datetime.now():\n",
    "        requestPer10sec['start'] = dt.datetime.now()\n",
    "        requestPer10sec['end'] = requestPer10sec['start'] + dt.timedelta(seconds= 10)\n",
    "        requestPer10sec['requests'] = 0\n",
    "        if verbose == True:\n",
    "            print('10 sec counter reset')\n",
    "    \n",
    "    avgMin = AVGrequestsPerMin(requestPerMin['requests'],requestPerMin['start'])\n",
    "    if avgMin > 1200:\n",
    "        print(f'Request per minute limit reached, sleeping 1 minute')\n",
    "        time.sleep(60)\n",
    "    \n",
    "    if verbose == True:\n",
    "        # print limit counters\n",
    "        print(f'Limit 10 sec: {requestPer10sec[\"requests\"]}')\n",
    "        print(f'Limit min AVG: {avgMin}')\n",
    "        print(f'Limit 24h: {requestPer24h[\"requests\"]}')"
   ]
  },
  {
   "cell_type": "code",
   "execution_count": 35,
   "id": "a9646500",
   "metadata": {
    "pycharm": {
     "name": "#%%\n"
    }
   },
   "outputs": [
    {
     "name": "stdout",
     "output_type": "stream",
     "text": [
      "07-May-2022 20:28:38.576820,            BUY_BUY_SELL, BTC/USDT, 35967.44, 100,            ETH/BTC, 0.074962, 0.00278307, ETH/USDT, 2696.23, 0.03716354,            100, 100.10125, True\n",
      "Limit 10 sec: 1\n",
      "Limit min AVG: 0.0\n",
      "Limit 24h: 3\n",
      "07-May-2022 20:28:41.903641,            BUY_BUY_SELL, BTC/USDT, 35978.55, 100,            LTC/BTC, 0.002682, 0.00278221, LTC/USDT, 96.6, 1.03840127,            100, 100.20925312, True\n",
      "Limit 10 sec: 3\n",
      "Limit min AVG: 0.0\n",
      "Limit 24h: 5\n",
      "07-May-2022 20:28:42.543326,            BUY_BUY_SELL, BTC/USDT, 35978.55, 100,            BNB/BTC, 0.01051, 0.00278221, BNB/USDT, 378.2, 0.26498499,            100, 100.11710589, True\n",
      "Limit 10 sec: 5\n",
      "Limit min AVG: 0.0\n",
      "Limit 24h: 7\n",
      "07-May-2022 20:28:44.181275,            BUY_BUY_SELL, BTC/USDT, 35978.55, 100,            NEO/BTC, 0.000468, 0.00278221, NEO/USDT, 16.86, 5.95083806,            100, 100.23079856, True\n",
      "Limit 10 sec: 7\n",
      "Limit min AVG: 0.0\n",
      "Limit 24h: 9\n",
      "07-May-2022 20:28:45.796118,            BUY_BUY_SELL, BTC/USDT, 35968.46, 80.94440504,            WTC/BTC, 7.96e-06, 0.00225268, WTC/USDT, 0.2874, 283.283,            80.94440504, 81.33411867, True\n",
      "Limit 10 sec: 9\n",
      "Limit min AVG: 0.0\n",
      "Limit 24h: 11\n",
      "07-May-2022 20:28:48.335897,            BUY_BUY_SELL, BTC/USDT, 35968.46, 100,            LRC/BTC, 1.995e-05, 0.00278299, LRC/USDT, 0.7177, 139.63774386,            100, 100.11779076, True\n",
      "10 sec counter reset\n",
      "Limit 10 sec: 0\n",
      "Limit min AVG: 0.0\n",
      "Limit 24h: 13\n",
      "07-May-2022 20:28:49.982087,            BUY_BUY_SELL, BTC/USDT, 35968.46, 100,            QTUM/BTC, 0.0001485, 0.00278299, QTUM/USDT, 5.344, 18.75941407,            100, 100.15005848, True\n",
      "Limit 10 sec: 2\n",
      "Limit min AVG: 0.0\n",
      "Limit 24h: 15\n",
      "07-May-2022 20:28:50.640310,            BUY_BUY_SELL, BTC/USDT, 35968.46, 100,            OMG/BTC, 0.0001027, 0.00278299, OMG/USDT, 3.695, 27.12534557,            100, 100.12792373, True\n",
      "Limit 10 sec: 4\n",
      "Limit min AVG: 0.0\n",
      "Limit 24h: 17\n",
      "07-May-2022 20:28:52.221168,            BUY_BUY_SELL, BTC/USDT, 35968.46, 21.581075999999996,            ZRX/BTC, 1.943e-05, 0.0006006, ZRX/USDT, 0.6994, 30.94187339,            21.581075999999996, 21.6191055, True\n",
      "Limit 10 sec: 6\n",
      "Limit min AVG: 0.0\n",
      "Limit 24h: 19\n",
      "07-May-2022 20:28:53.811036,            BUY_BUY_SELL, BTC/USDT, 35965.64, 100,            KNC/BTC, 7.803e-05, 0.00278321, KNC/USDT, 2.809, 35.70412931,            100, 100.19260633, True\n",
      "Limit 10 sec: 8\n",
      "Limit min AVG: 0.0\n",
      "Limit 24h: 21\n",
      "07-May-2022 20:28:54.456467,            BUY_BUY_SELL, BTC/USDT, 35961.5, 43.43936488,            IOTA/BTC, 1.371e-05, 0.00120915, IOTA/USDT, 0.4932, 88.28280000000001,            43.43936488, 43.49753588, True\n",
      "Limit 10 sec: 10\n",
      "Limit min AVG: 0.0\n",
      "Limit 24h: 23\n",
      "07-May-2022 20:28:55.102252,            BUY_BUY_SELL, BTC/USDT, 35961.5, 70.1247471,            LINK/BTC, 0.0002971, 0.001951947, LINK/USDT, 10.69, 6.57657,            70.1247471, 70.23322977, True\n",
      "Limit 10 sec: 12\n",
      "Limit min AVG: 0.0\n",
      "Limit 24h: 25\n",
      "07-May-2022 20:28:55.802319,            BUY_BUY_SELL, BTC/USDT, 35960.0, 3.29998231,            XVG/BTC, 2.2e-07, 9.186e-05, XVG/USDT, 0.00802, 417.96229999999997,            3.29998231, 3.34870559, True\n",
      "Limit 10 sec: 14\n",
      "Limit min AVG: 0.0\n",
      "Limit 24h: 27\n"
     ]
    },
    {
     "ename": "KeyboardInterrupt",
     "evalue": "",
     "output_type": "error",
     "traceback": [
      "\u001b[1;31m---------------------------------------------------------------------------\u001b[0m",
      "\u001b[1;31mKeyboardInterrupt\u001b[0m                         Traceback (most recent call last)",
      "\u001b[1;32md:\\OneDrive\\Cosas PY\\cryptobot\\triangular_arbitrage.ipynb Cell 32'\u001b[0m in \u001b[0;36m<cell line: 8>\u001b[1;34m()\u001b[0m\n\u001b[0;32m     <a href='vscode-notebook-cell:/d%3A/OneDrive/Cosas%20PY/cryptobot/triangular_arbitrage.ipynb#ch0000032?line=19'>20</a>\u001b[0m checkLimits(verbose\u001b[39m=\u001b[39mverbose)\n\u001b[0;32m     <a href='vscode-notebook-cell:/d%3A/OneDrive/Cosas%20PY/cryptobot/triangular_arbitrage.ipynb#ch0000032?line=21'>22</a>\u001b[0m \u001b[39m# Check triangular arbitrage for buy-buy-sell \u001b[39;00m\n\u001b[1;32m---> <a href='vscode-notebook-cell:/d%3A/OneDrive/Cosas%20PY/cryptobot/triangular_arbitrage.ipynb#ch0000032?line=22'>23</a>\u001b[0m bbs \u001b[39m=\u001b[39m perform_triangular_arbitrage(s1,s2,s3,\u001b[39m'\u001b[39;49m\u001b[39mBUY_BUY_SELL\u001b[39;49m\u001b[39m'\u001b[39;49m,INVESTMENT_AMOUNT_DOLLARS, MIN_PROFIT_percentage)\n\u001b[0;32m     <a href='vscode-notebook-cell:/d%3A/OneDrive/Cosas%20PY/cryptobot/triangular_arbitrage.ipynb#ch0000032?line=24'>25</a>\u001b[0m \u001b[39m#if not bbs == None:\u001b[39;00m\n\u001b[0;32m     <a href='vscode-notebook-cell:/d%3A/OneDrive/Cosas%20PY/cryptobot/triangular_arbitrage.ipynb#ch0000032?line=25'>26</a>\u001b[0m \u001b[39mwith\u001b[39;00m \u001b[39mopen\u001b[39m(\u001b[39mf\u001b[39m\u001b[39m'\u001b[39m\u001b[39moutput\u001b[39m\u001b[39m\\\u001b[39m\u001b[39mTriBot_output_\u001b[39m\u001b[39m{\u001b[39;00mdt\u001b[39m.\u001b[39mdatetime\u001b[39m.\u001b[39mtoday()\u001b[39m.\u001b[39mdate()\u001b[39m.\u001b[39mstrftime(\u001b[39m\"\u001b[39m\u001b[39m%d\u001b[39;00m\u001b[39m%\u001b[39m\u001b[39mm\u001b[39m\u001b[39m%\u001b[39m\u001b[39mY\u001b[39m\u001b[39m\"\u001b[39m)\u001b[39m}\u001b[39;00m\u001b[39m.csv\u001b[39m\u001b[39m'\u001b[39m, \u001b[39m'\u001b[39m\u001b[39ma\u001b[39m\u001b[39m'\u001b[39m) \u001b[39mas\u001b[39;00m f:\n",
      "\u001b[1;32md:\\OneDrive\\Cosas PY\\cryptobot\\triangular_arbitrage.ipynb Cell 28'\u001b[0m in \u001b[0;36mperform_triangular_arbitrage\u001b[1;34m(scrip1, scrip2, scrip3, arbitrage_type, investment_limit, min_profit_percentage)\u001b[0m\n\u001b[0;32m      <a href='vscode-notebook-cell:/d%3A/OneDrive/Cosas%20PY/cryptobot/triangular_arbitrage.ipynb#ch0000028?line=5'>6</a>\u001b[0m OP_return \u001b[39m=\u001b[39m \u001b[39m0.0\u001b[39m\n\u001b[0;32m      <a href='vscode-notebook-cell:/d%3A/OneDrive/Cosas%20PY/cryptobot/triangular_arbitrage.ipynb#ch0000028?line=6'>7</a>\u001b[0m \u001b[39mif\u001b[39;00m(arbitrage_type \u001b[39m==\u001b[39m \u001b[39m'\u001b[39m\u001b[39mBUY_BUY_SELL\u001b[39m\u001b[39m'\u001b[39m):\n\u001b[0;32m      <a href='vscode-notebook-cell:/d%3A/OneDrive/Cosas%20PY/cryptobot/triangular_arbitrage.ipynb#ch0000028?line=7'>8</a>\u001b[0m     \u001b[39m# Check this combination for triangular arbitrage: scrip1 - BUY, scrip2 - BUY, scrip3 - SELL\u001b[39;00m\n\u001b[1;32m----> <a href='vscode-notebook-cell:/d%3A/OneDrive/Cosas%20PY/cryptobot/triangular_arbitrage.ipynb#ch0000028?line=8'>9</a>\u001b[0m     OP_return, scrip_prices,scrip_amounts \u001b[39m=\u001b[39m check_buy_buy_sell(scrip1, scrip2, scrip3,investment_limit)\n\u001b[0;32m     <a href='vscode-notebook-cell:/d%3A/OneDrive/Cosas%20PY/cryptobot/triangular_arbitrage.ipynb#ch0000028?line=10'>11</a>\u001b[0m \u001b[39melif\u001b[39;00m(arbitrage_type \u001b[39m==\u001b[39m \u001b[39m'\u001b[39m\u001b[39mBUY_SELL_SELL\u001b[39m\u001b[39m'\u001b[39m):\n\u001b[0;32m     <a href='vscode-notebook-cell:/d%3A/OneDrive/Cosas%20PY/cryptobot/triangular_arbitrage.ipynb#ch0000028?line=11'>12</a>\u001b[0m     \u001b[39m# Check this combination for triangular arbitrage: scrip1 - BUY, scrip2 - SELL, scrip3 - SELL\u001b[39;00m\n\u001b[0;32m     <a href='vscode-notebook-cell:/d%3A/OneDrive/Cosas%20PY/cryptobot/triangular_arbitrage.ipynb#ch0000028?line=12'>13</a>\u001b[0m     OP_return, scrip_prices,scrip_amounts \u001b[39m=\u001b[39m check_buy_sell_sell(scrip1, scrip2, scrip3,investment_limit)\n",
      "\u001b[1;32md:\\OneDrive\\Cosas PY\\cryptobot\\triangular_arbitrage.ipynb Cell 21'\u001b[0m in \u001b[0;36mcheck_buy_buy_sell\u001b[1;34m(scrip1, scrip2, scrip3, investment_limit)\u001b[0m\n\u001b[0;32m      <a href='vscode-notebook-cell:/d%3A/OneDrive/Cosas%20PY/cryptobot/triangular_arbitrage.ipynb#ch0000020?line=0'>1</a>\u001b[0m \u001b[39mdef\u001b[39;00m \u001b[39mcheck_buy_buy_sell\u001b[39m(scrip1, scrip2, scrip3,investment_limit):\n\u001b[1;32m----> <a href='vscode-notebook-cell:/d%3A/OneDrive/Cosas%20PY/cryptobot/triangular_arbitrage.ipynb#ch0000020?line=2'>3</a>\u001b[0m     fullfetch \u001b[39m=\u001b[39m fetch_current_ticker_price([scrip1, scrip2, scrip3])\n\u001b[0;32m      <a href='vscode-notebook-cell:/d%3A/OneDrive/Cosas%20PY/cryptobot/triangular_arbitrage.ipynb#ch0000020?line=3'>4</a>\u001b[0m     \u001b[39mif\u001b[39;00m verbose \u001b[39m==\u001b[39m \u001b[39mTrue\u001b[39;00m:\n\u001b[0;32m      <a href='vscode-notebook-cell:/d%3A/OneDrive/Cosas%20PY/cryptobot/triangular_arbitrage.ipynb#ch0000020?line=4'>5</a>\u001b[0m         \u001b[39mprint\u001b[39m(\u001b[39mf\u001b[39m\u001b[39m'\u001b[39m\u001b[39m{\u001b[39;00mscrip1\u001b[39m}\u001b[39;00m\u001b[39m: \u001b[39m\u001b[39m{\u001b[39;00mfullfetch[scrip1][\u001b[39m\"\u001b[39m\u001b[39mbid\u001b[39m\u001b[39m\"\u001b[39m]\u001b[39m}\u001b[39;00m\u001b[39m/\u001b[39m\u001b[39m{\u001b[39;00mfullfetch[scrip1][\u001b[39m\"\u001b[39m\u001b[39mbidVolume\u001b[39m\u001b[39m\"\u001b[39m]\u001b[39m}\u001b[39;00m\u001b[39m - \u001b[39m\u001b[39m{\u001b[39;00mfullfetch[scrip1][\u001b[39m\"\u001b[39m\u001b[39mask\u001b[39m\u001b[39m\"\u001b[39m]\u001b[39m}\u001b[39;00m\u001b[39m/\u001b[39m\u001b[39m{\u001b[39;00mfullfetch[scrip1][\u001b[39m\"\u001b[39m\u001b[39maskVolume\u001b[39m\u001b[39m\"\u001b[39m]\u001b[39m}\u001b[39;00m\u001b[39m'\u001b[39m)\n",
      "\u001b[1;32md:\\OneDrive\\Cosas PY\\cryptobot\\triangular_arbitrage.ipynb Cell 18'\u001b[0m in \u001b[0;36mfetch_current_ticker_price\u001b[1;34m(tickerList, limiters)\u001b[0m\n\u001b[0;32m      <a href='vscode-notebook-cell:/d%3A/OneDrive/Cosas%20PY/cryptobot/triangular_arbitrage.ipynb#ch0000017?line=0'>1</a>\u001b[0m \u001b[39mdef\u001b[39;00m \u001b[39mfetch_current_ticker_price\u001b[39m(tickerList, limiters\u001b[39m=\u001b[39m \u001b[39mTrue\u001b[39;00m):\n\u001b[1;32m----> <a href='vscode-notebook-cell:/d%3A/OneDrive/Cosas%20PY/cryptobot/triangular_arbitrage.ipynb#ch0000017?line=1'>2</a>\u001b[0m     bidAsk \u001b[39m=\u001b[39m exchange\u001b[39m.\u001b[39;49mfetch_bids_asks(symbols\u001b[39m=\u001b[39;49m tickerList)\n\u001b[0;32m      <a href='vscode-notebook-cell:/d%3A/OneDrive/Cosas%20PY/cryptobot/triangular_arbitrage.ipynb#ch0000017?line=3'>4</a>\u001b[0m     \u001b[39m# add 1 to limit counters\u001b[39;00m\n\u001b[0;32m      <a href='vscode-notebook-cell:/d%3A/OneDrive/Cosas%20PY/cryptobot/triangular_arbitrage.ipynb#ch0000017?line=4'>5</a>\u001b[0m     \u001b[39mif\u001b[39;00m limiters:\n",
      "File \u001b[1;32mc:\\Users\\soyel\\miniconda3\\envs\\cryptobot\\lib\\site-packages\\ccxt\\binance.py:2113\u001b[0m, in \u001b[0;36mbinance.fetch_bids_asks\u001b[1;34m(self, symbols, params)\u001b[0m\n\u001b[0;32m   <a href='file:///c%3A/Users/soyel/miniconda3/envs/cryptobot/lib/site-packages/ccxt/binance.py?line=2110'>2111</a>\u001b[0m \u001b[39melse\u001b[39;00m:\n\u001b[0;32m   <a href='file:///c%3A/Users/soyel/miniconda3/envs/cryptobot/lib/site-packages/ccxt/binance.py?line=2111'>2112</a>\u001b[0m     method \u001b[39m=\u001b[39m \u001b[39m'\u001b[39m\u001b[39mpublicGetTickerBookTicker\u001b[39m\u001b[39m'\u001b[39m\n\u001b[1;32m-> <a href='file:///c%3A/Users/soyel/miniconda3/envs/cryptobot/lib/site-packages/ccxt/binance.py?line=2112'>2113</a>\u001b[0m response \u001b[39m=\u001b[39m \u001b[39mgetattr\u001b[39;49m(\u001b[39mself\u001b[39;49m, method)(query)\n\u001b[0;32m   <a href='file:///c%3A/Users/soyel/miniconda3/envs/cryptobot/lib/site-packages/ccxt/binance.py?line=2113'>2114</a>\u001b[0m \u001b[39mreturn\u001b[39;00m \u001b[39mself\u001b[39m\u001b[39m.\u001b[39mparse_tickers(response, symbols)\n",
      "File \u001b[1;32mc:\\Users\\soyel\\miniconda3\\envs\\cryptobot\\lib\\site-packages\\ccxt\\base\\exchange.py:496\u001b[0m, in \u001b[0;36mExchange.define_rest_api_endpoint.<locals>.partialer.<locals>.inner\u001b[1;34m(_self, params, context)\u001b[0m\n\u001b[0;32m    <a href='file:///c%3A/Users/soyel/miniconda3/envs/cryptobot/lib/site-packages/ccxt/base/exchange.py?line=493'>494</a>\u001b[0m \u001b[39mif\u001b[39;00m context \u001b[39mis\u001b[39;00m \u001b[39mnot\u001b[39;00m \u001b[39mNone\u001b[39;00m:\n\u001b[0;32m    <a href='file:///c%3A/Users/soyel/miniconda3/envs/cryptobot/lib/site-packages/ccxt/base/exchange.py?line=494'>495</a>\u001b[0m     inner_kwargs[\u001b[39m'\u001b[39m\u001b[39mcontext\u001b[39m\u001b[39m'\u001b[39m] \u001b[39m=\u001b[39m params\n\u001b[1;32m--> <a href='file:///c%3A/Users/soyel/miniconda3/envs/cryptobot/lib/site-packages/ccxt/base/exchange.py?line=495'>496</a>\u001b[0m \u001b[39mreturn\u001b[39;00m entry(_self, \u001b[39m*\u001b[39m\u001b[39m*\u001b[39minner_kwargs)\n",
      "File \u001b[1;32mc:\\Users\\soyel\\miniconda3\\envs\\cryptobot\\lib\\site-packages\\ccxt\\binance.py:5064\u001b[0m, in \u001b[0;36mbinance.request\u001b[1;34m(self, path, api, method, params, headers, body, config, context)\u001b[0m\n\u001b[0;32m   <a href='file:///c%3A/Users/soyel/miniconda3/envs/cryptobot/lib/site-packages/ccxt/binance.py?line=5062'>5063</a>\u001b[0m \u001b[39mdef\u001b[39;00m \u001b[39mrequest\u001b[39m(\u001b[39mself\u001b[39m, path, api\u001b[39m=\u001b[39m\u001b[39m'\u001b[39m\u001b[39mpublic\u001b[39m\u001b[39m'\u001b[39m, method\u001b[39m=\u001b[39m\u001b[39m'\u001b[39m\u001b[39mGET\u001b[39m\u001b[39m'\u001b[39m, params\u001b[39m=\u001b[39m{}, headers\u001b[39m=\u001b[39m\u001b[39mNone\u001b[39;00m, body\u001b[39m=\u001b[39m\u001b[39mNone\u001b[39;00m, config\u001b[39m=\u001b[39m{}, context\u001b[39m=\u001b[39m{}):\n\u001b[1;32m-> <a href='file:///c%3A/Users/soyel/miniconda3/envs/cryptobot/lib/site-packages/ccxt/binance.py?line=5063'>5064</a>\u001b[0m     response \u001b[39m=\u001b[39m \u001b[39mself\u001b[39;49m\u001b[39m.\u001b[39;49mfetch2(path, api, method, params, headers, body, config, context)\n\u001b[0;32m   <a href='file:///c%3A/Users/soyel/miniconda3/envs/cryptobot/lib/site-packages/ccxt/binance.py?line=5064'>5065</a>\u001b[0m     \u001b[39m# a workaround for {\"code\":-2015,\"msg\":\"Invalid API-key, IP, or permissions for action.\"}\u001b[39;00m\n\u001b[0;32m   <a href='file:///c%3A/Users/soyel/miniconda3/envs/cryptobot/lib/site-packages/ccxt/binance.py?line=5065'>5066</a>\u001b[0m     \u001b[39mif\u001b[39;00m (api \u001b[39m==\u001b[39m \u001b[39m'\u001b[39m\u001b[39mprivate\u001b[39m\u001b[39m'\u001b[39m) \u001b[39mor\u001b[39;00m (api \u001b[39m==\u001b[39m \u001b[39m'\u001b[39m\u001b[39mwapi\u001b[39m\u001b[39m'\u001b[39m):\n",
      "File \u001b[1;32mc:\\Users\\soyel\\miniconda3\\envs\\cryptobot\\lib\\site-packages\\ccxt\\base\\exchange.py:543\u001b[0m, in \u001b[0;36mExchange.fetch2\u001b[1;34m(self, path, api, method, params, headers, body, config, context)\u001b[0m\n\u001b[0;32m    <a href='file:///c%3A/Users/soyel/miniconda3/envs/cryptobot/lib/site-packages/ccxt/base/exchange.py?line=540'>541</a>\u001b[0m \u001b[39mself\u001b[39m\u001b[39m.\u001b[39mlastRestRequestTimestamp \u001b[39m=\u001b[39m \u001b[39mself\u001b[39m\u001b[39m.\u001b[39mmilliseconds()\n\u001b[0;32m    <a href='file:///c%3A/Users/soyel/miniconda3/envs/cryptobot/lib/site-packages/ccxt/base/exchange.py?line=541'>542</a>\u001b[0m request \u001b[39m=\u001b[39m \u001b[39mself\u001b[39m\u001b[39m.\u001b[39msign(path, api, method, params, headers, body)\n\u001b[1;32m--> <a href='file:///c%3A/Users/soyel/miniconda3/envs/cryptobot/lib/site-packages/ccxt/base/exchange.py?line=542'>543</a>\u001b[0m \u001b[39mreturn\u001b[39;00m \u001b[39mself\u001b[39;49m\u001b[39m.\u001b[39;49mfetch(request[\u001b[39m'\u001b[39;49m\u001b[39murl\u001b[39;49m\u001b[39m'\u001b[39;49m], request[\u001b[39m'\u001b[39;49m\u001b[39mmethod\u001b[39;49m\u001b[39m'\u001b[39;49m], request[\u001b[39m'\u001b[39;49m\u001b[39mheaders\u001b[39;49m\u001b[39m'\u001b[39;49m], request[\u001b[39m'\u001b[39;49m\u001b[39mbody\u001b[39;49m\u001b[39m'\u001b[39;49m])\n",
      "File \u001b[1;32mc:\\Users\\soyel\\miniconda3\\envs\\cryptobot\\lib\\site-packages\\ccxt\\base\\exchange.py:630\u001b[0m, in \u001b[0;36mExchange.fetch\u001b[1;34m(self, url, method, headers, body)\u001b[0m\n\u001b[0;32m    <a href='file:///c%3A/Users/soyel/miniconda3/envs/cryptobot/lib/site-packages/ccxt/base/exchange.py?line=627'>628</a>\u001b[0m json_response \u001b[39m=\u001b[39m \u001b[39mNone\u001b[39;00m\n\u001b[0;32m    <a href='file:///c%3A/Users/soyel/miniconda3/envs/cryptobot/lib/site-packages/ccxt/base/exchange.py?line=628'>629</a>\u001b[0m \u001b[39mtry\u001b[39;00m:\n\u001b[1;32m--> <a href='file:///c%3A/Users/soyel/miniconda3/envs/cryptobot/lib/site-packages/ccxt/base/exchange.py?line=629'>630</a>\u001b[0m     response \u001b[39m=\u001b[39m \u001b[39mself\u001b[39;49m\u001b[39m.\u001b[39;49msession\u001b[39m.\u001b[39;49mrequest(\n\u001b[0;32m    <a href='file:///c%3A/Users/soyel/miniconda3/envs/cryptobot/lib/site-packages/ccxt/base/exchange.py?line=630'>631</a>\u001b[0m         method,\n\u001b[0;32m    <a href='file:///c%3A/Users/soyel/miniconda3/envs/cryptobot/lib/site-packages/ccxt/base/exchange.py?line=631'>632</a>\u001b[0m         url,\n\u001b[0;32m    <a href='file:///c%3A/Users/soyel/miniconda3/envs/cryptobot/lib/site-packages/ccxt/base/exchange.py?line=632'>633</a>\u001b[0m         data\u001b[39m=\u001b[39;49mbody,\n\u001b[0;32m    <a href='file:///c%3A/Users/soyel/miniconda3/envs/cryptobot/lib/site-packages/ccxt/base/exchange.py?line=633'>634</a>\u001b[0m         headers\u001b[39m=\u001b[39;49mrequest_headers,\n\u001b[0;32m    <a href='file:///c%3A/Users/soyel/miniconda3/envs/cryptobot/lib/site-packages/ccxt/base/exchange.py?line=634'>635</a>\u001b[0m         timeout\u001b[39m=\u001b[39;49m\u001b[39mint\u001b[39;49m(\u001b[39mself\u001b[39;49m\u001b[39m.\u001b[39;49mtimeout \u001b[39m/\u001b[39;49m \u001b[39m1000\u001b[39;49m),\n\u001b[0;32m    <a href='file:///c%3A/Users/soyel/miniconda3/envs/cryptobot/lib/site-packages/ccxt/base/exchange.py?line=635'>636</a>\u001b[0m         proxies\u001b[39m=\u001b[39;49m\u001b[39mself\u001b[39;49m\u001b[39m.\u001b[39;49mproxies,\n\u001b[0;32m    <a href='file:///c%3A/Users/soyel/miniconda3/envs/cryptobot/lib/site-packages/ccxt/base/exchange.py?line=636'>637</a>\u001b[0m         verify\u001b[39m=\u001b[39;49m\u001b[39mself\u001b[39;49m\u001b[39m.\u001b[39;49mverify \u001b[39mand\u001b[39;49;00m \u001b[39mself\u001b[39;49m\u001b[39m.\u001b[39;49mvalidateServerSsl\n\u001b[0;32m    <a href='file:///c%3A/Users/soyel/miniconda3/envs/cryptobot/lib/site-packages/ccxt/base/exchange.py?line=637'>638</a>\u001b[0m     )\n\u001b[0;32m    <a href='file:///c%3A/Users/soyel/miniconda3/envs/cryptobot/lib/site-packages/ccxt/base/exchange.py?line=638'>639</a>\u001b[0m     \u001b[39m# does not try to detect encoding\u001b[39;00m\n\u001b[0;32m    <a href='file:///c%3A/Users/soyel/miniconda3/envs/cryptobot/lib/site-packages/ccxt/base/exchange.py?line=639'>640</a>\u001b[0m     response\u001b[39m.\u001b[39mencoding \u001b[39m=\u001b[39m \u001b[39m'\u001b[39m\u001b[39mutf-8\u001b[39m\u001b[39m'\u001b[39m\n",
      "File \u001b[1;32mc:\\Users\\soyel\\miniconda3\\envs\\cryptobot\\lib\\site-packages\\requests\\sessions.py:529\u001b[0m, in \u001b[0;36mSession.request\u001b[1;34m(self, method, url, params, data, headers, cookies, files, auth, timeout, allow_redirects, proxies, hooks, stream, verify, cert, json)\u001b[0m\n\u001b[0;32m    <a href='file:///c%3A/Users/soyel/miniconda3/envs/cryptobot/lib/site-packages/requests/sessions.py?line=523'>524</a>\u001b[0m send_kwargs \u001b[39m=\u001b[39m {\n\u001b[0;32m    <a href='file:///c%3A/Users/soyel/miniconda3/envs/cryptobot/lib/site-packages/requests/sessions.py?line=524'>525</a>\u001b[0m     \u001b[39m'\u001b[39m\u001b[39mtimeout\u001b[39m\u001b[39m'\u001b[39m: timeout,\n\u001b[0;32m    <a href='file:///c%3A/Users/soyel/miniconda3/envs/cryptobot/lib/site-packages/requests/sessions.py?line=525'>526</a>\u001b[0m     \u001b[39m'\u001b[39m\u001b[39mallow_redirects\u001b[39m\u001b[39m'\u001b[39m: allow_redirects,\n\u001b[0;32m    <a href='file:///c%3A/Users/soyel/miniconda3/envs/cryptobot/lib/site-packages/requests/sessions.py?line=526'>527</a>\u001b[0m }\n\u001b[0;32m    <a href='file:///c%3A/Users/soyel/miniconda3/envs/cryptobot/lib/site-packages/requests/sessions.py?line=527'>528</a>\u001b[0m send_kwargs\u001b[39m.\u001b[39mupdate(settings)\n\u001b[1;32m--> <a href='file:///c%3A/Users/soyel/miniconda3/envs/cryptobot/lib/site-packages/requests/sessions.py?line=528'>529</a>\u001b[0m resp \u001b[39m=\u001b[39m \u001b[39mself\u001b[39m\u001b[39m.\u001b[39msend(prep, \u001b[39m*\u001b[39m\u001b[39m*\u001b[39msend_kwargs)\n\u001b[0;32m    <a href='file:///c%3A/Users/soyel/miniconda3/envs/cryptobot/lib/site-packages/requests/sessions.py?line=530'>531</a>\u001b[0m \u001b[39mreturn\u001b[39;00m resp\n",
      "File \u001b[1;32mc:\\Users\\soyel\\miniconda3\\envs\\cryptobot\\lib\\site-packages\\requests\\sessions.py:645\u001b[0m, in \u001b[0;36mSession.send\u001b[1;34m(self, request, **kwargs)\u001b[0m\n\u001b[0;32m    <a href='file:///c%3A/Users/soyel/miniconda3/envs/cryptobot/lib/site-packages/requests/sessions.py?line=641'>642</a>\u001b[0m start \u001b[39m=\u001b[39m preferred_clock()\n\u001b[0;32m    <a href='file:///c%3A/Users/soyel/miniconda3/envs/cryptobot/lib/site-packages/requests/sessions.py?line=643'>644</a>\u001b[0m \u001b[39m# Send the request\u001b[39;00m\n\u001b[1;32m--> <a href='file:///c%3A/Users/soyel/miniconda3/envs/cryptobot/lib/site-packages/requests/sessions.py?line=644'>645</a>\u001b[0m r \u001b[39m=\u001b[39m adapter\u001b[39m.\u001b[39msend(request, \u001b[39m*\u001b[39m\u001b[39m*\u001b[39mkwargs)\n\u001b[0;32m    <a href='file:///c%3A/Users/soyel/miniconda3/envs/cryptobot/lib/site-packages/requests/sessions.py?line=646'>647</a>\u001b[0m \u001b[39m# Total elapsed time of the request (approximately)\u001b[39;00m\n\u001b[0;32m    <a href='file:///c%3A/Users/soyel/miniconda3/envs/cryptobot/lib/site-packages/requests/sessions.py?line=647'>648</a>\u001b[0m elapsed \u001b[39m=\u001b[39m preferred_clock() \u001b[39m-\u001b[39m start\n",
      "File \u001b[1;32mc:\\Users\\soyel\\miniconda3\\envs\\cryptobot\\lib\\site-packages\\requests\\adapters.py:440\u001b[0m, in \u001b[0;36mHTTPAdapter.send\u001b[1;34m(self, request, stream, timeout, verify, cert, proxies)\u001b[0m\n\u001b[0;32m    <a href='file:///c%3A/Users/soyel/miniconda3/envs/cryptobot/lib/site-packages/requests/adapters.py?line=437'>438</a>\u001b[0m \u001b[39mtry\u001b[39;00m:\n\u001b[0;32m    <a href='file:///c%3A/Users/soyel/miniconda3/envs/cryptobot/lib/site-packages/requests/adapters.py?line=438'>439</a>\u001b[0m     \u001b[39mif\u001b[39;00m \u001b[39mnot\u001b[39;00m chunked:\n\u001b[1;32m--> <a href='file:///c%3A/Users/soyel/miniconda3/envs/cryptobot/lib/site-packages/requests/adapters.py?line=439'>440</a>\u001b[0m         resp \u001b[39m=\u001b[39m conn\u001b[39m.\u001b[39;49murlopen(\n\u001b[0;32m    <a href='file:///c%3A/Users/soyel/miniconda3/envs/cryptobot/lib/site-packages/requests/adapters.py?line=440'>441</a>\u001b[0m             method\u001b[39m=\u001b[39;49mrequest\u001b[39m.\u001b[39;49mmethod,\n\u001b[0;32m    <a href='file:///c%3A/Users/soyel/miniconda3/envs/cryptobot/lib/site-packages/requests/adapters.py?line=441'>442</a>\u001b[0m             url\u001b[39m=\u001b[39;49murl,\n\u001b[0;32m    <a href='file:///c%3A/Users/soyel/miniconda3/envs/cryptobot/lib/site-packages/requests/adapters.py?line=442'>443</a>\u001b[0m             body\u001b[39m=\u001b[39;49mrequest\u001b[39m.\u001b[39;49mbody,\n\u001b[0;32m    <a href='file:///c%3A/Users/soyel/miniconda3/envs/cryptobot/lib/site-packages/requests/adapters.py?line=443'>444</a>\u001b[0m             headers\u001b[39m=\u001b[39;49mrequest\u001b[39m.\u001b[39;49mheaders,\n\u001b[0;32m    <a href='file:///c%3A/Users/soyel/miniconda3/envs/cryptobot/lib/site-packages/requests/adapters.py?line=444'>445</a>\u001b[0m             redirect\u001b[39m=\u001b[39;49m\u001b[39mFalse\u001b[39;49;00m,\n\u001b[0;32m    <a href='file:///c%3A/Users/soyel/miniconda3/envs/cryptobot/lib/site-packages/requests/adapters.py?line=445'>446</a>\u001b[0m             assert_same_host\u001b[39m=\u001b[39;49m\u001b[39mFalse\u001b[39;49;00m,\n\u001b[0;32m    <a href='file:///c%3A/Users/soyel/miniconda3/envs/cryptobot/lib/site-packages/requests/adapters.py?line=446'>447</a>\u001b[0m             preload_content\u001b[39m=\u001b[39;49m\u001b[39mFalse\u001b[39;49;00m,\n\u001b[0;32m    <a href='file:///c%3A/Users/soyel/miniconda3/envs/cryptobot/lib/site-packages/requests/adapters.py?line=447'>448</a>\u001b[0m             decode_content\u001b[39m=\u001b[39;49m\u001b[39mFalse\u001b[39;49;00m,\n\u001b[0;32m    <a href='file:///c%3A/Users/soyel/miniconda3/envs/cryptobot/lib/site-packages/requests/adapters.py?line=448'>449</a>\u001b[0m             retries\u001b[39m=\u001b[39;49m\u001b[39mself\u001b[39;49m\u001b[39m.\u001b[39;49mmax_retries,\n\u001b[0;32m    <a href='file:///c%3A/Users/soyel/miniconda3/envs/cryptobot/lib/site-packages/requests/adapters.py?line=449'>450</a>\u001b[0m             timeout\u001b[39m=\u001b[39;49mtimeout\n\u001b[0;32m    <a href='file:///c%3A/Users/soyel/miniconda3/envs/cryptobot/lib/site-packages/requests/adapters.py?line=450'>451</a>\u001b[0m         )\n\u001b[0;32m    <a href='file:///c%3A/Users/soyel/miniconda3/envs/cryptobot/lib/site-packages/requests/adapters.py?line=452'>453</a>\u001b[0m     \u001b[39m# Send the request.\u001b[39;00m\n\u001b[0;32m    <a href='file:///c%3A/Users/soyel/miniconda3/envs/cryptobot/lib/site-packages/requests/adapters.py?line=453'>454</a>\u001b[0m     \u001b[39melse\u001b[39;00m:\n\u001b[0;32m    <a href='file:///c%3A/Users/soyel/miniconda3/envs/cryptobot/lib/site-packages/requests/adapters.py?line=454'>455</a>\u001b[0m         \u001b[39mif\u001b[39;00m \u001b[39mhasattr\u001b[39m(conn, \u001b[39m'\u001b[39m\u001b[39mproxy_pool\u001b[39m\u001b[39m'\u001b[39m):\n",
      "File \u001b[1;32mc:\\Users\\soyel\\miniconda3\\envs\\cryptobot\\lib\\site-packages\\urllib3\\connectionpool.py:703\u001b[0m, in \u001b[0;36mHTTPConnectionPool.urlopen\u001b[1;34m(self, method, url, body, headers, retries, redirect, assert_same_host, timeout, pool_timeout, release_conn, chunked, body_pos, **response_kw)\u001b[0m\n\u001b[0;32m    <a href='file:///c%3A/Users/soyel/miniconda3/envs/cryptobot/lib/site-packages/urllib3/connectionpool.py?line=699'>700</a>\u001b[0m     \u001b[39mself\u001b[39m\u001b[39m.\u001b[39m_prepare_proxy(conn)\n\u001b[0;32m    <a href='file:///c%3A/Users/soyel/miniconda3/envs/cryptobot/lib/site-packages/urllib3/connectionpool.py?line=701'>702</a>\u001b[0m \u001b[39m# Make the request on the httplib connection object.\u001b[39;00m\n\u001b[1;32m--> <a href='file:///c%3A/Users/soyel/miniconda3/envs/cryptobot/lib/site-packages/urllib3/connectionpool.py?line=702'>703</a>\u001b[0m httplib_response \u001b[39m=\u001b[39m \u001b[39mself\u001b[39;49m\u001b[39m.\u001b[39;49m_make_request(\n\u001b[0;32m    <a href='file:///c%3A/Users/soyel/miniconda3/envs/cryptobot/lib/site-packages/urllib3/connectionpool.py?line=703'>704</a>\u001b[0m     conn,\n\u001b[0;32m    <a href='file:///c%3A/Users/soyel/miniconda3/envs/cryptobot/lib/site-packages/urllib3/connectionpool.py?line=704'>705</a>\u001b[0m     method,\n\u001b[0;32m    <a href='file:///c%3A/Users/soyel/miniconda3/envs/cryptobot/lib/site-packages/urllib3/connectionpool.py?line=705'>706</a>\u001b[0m     url,\n\u001b[0;32m    <a href='file:///c%3A/Users/soyel/miniconda3/envs/cryptobot/lib/site-packages/urllib3/connectionpool.py?line=706'>707</a>\u001b[0m     timeout\u001b[39m=\u001b[39;49mtimeout_obj,\n\u001b[0;32m    <a href='file:///c%3A/Users/soyel/miniconda3/envs/cryptobot/lib/site-packages/urllib3/connectionpool.py?line=707'>708</a>\u001b[0m     body\u001b[39m=\u001b[39;49mbody,\n\u001b[0;32m    <a href='file:///c%3A/Users/soyel/miniconda3/envs/cryptobot/lib/site-packages/urllib3/connectionpool.py?line=708'>709</a>\u001b[0m     headers\u001b[39m=\u001b[39;49mheaders,\n\u001b[0;32m    <a href='file:///c%3A/Users/soyel/miniconda3/envs/cryptobot/lib/site-packages/urllib3/connectionpool.py?line=709'>710</a>\u001b[0m     chunked\u001b[39m=\u001b[39;49mchunked,\n\u001b[0;32m    <a href='file:///c%3A/Users/soyel/miniconda3/envs/cryptobot/lib/site-packages/urllib3/connectionpool.py?line=710'>711</a>\u001b[0m )\n\u001b[0;32m    <a href='file:///c%3A/Users/soyel/miniconda3/envs/cryptobot/lib/site-packages/urllib3/connectionpool.py?line=712'>713</a>\u001b[0m \u001b[39m# If we're going to release the connection in ``finally:``, then\u001b[39;00m\n\u001b[0;32m    <a href='file:///c%3A/Users/soyel/miniconda3/envs/cryptobot/lib/site-packages/urllib3/connectionpool.py?line=713'>714</a>\u001b[0m \u001b[39m# the response doesn't need to know about the connection. Otherwise\u001b[39;00m\n\u001b[0;32m    <a href='file:///c%3A/Users/soyel/miniconda3/envs/cryptobot/lib/site-packages/urllib3/connectionpool.py?line=714'>715</a>\u001b[0m \u001b[39m# it will also try to release it and we'll have a double-release\u001b[39;00m\n\u001b[0;32m    <a href='file:///c%3A/Users/soyel/miniconda3/envs/cryptobot/lib/site-packages/urllib3/connectionpool.py?line=715'>716</a>\u001b[0m \u001b[39m# mess.\u001b[39;00m\n\u001b[0;32m    <a href='file:///c%3A/Users/soyel/miniconda3/envs/cryptobot/lib/site-packages/urllib3/connectionpool.py?line=716'>717</a>\u001b[0m response_conn \u001b[39m=\u001b[39m conn \u001b[39mif\u001b[39;00m \u001b[39mnot\u001b[39;00m release_conn \u001b[39melse\u001b[39;00m \u001b[39mNone\u001b[39;00m\n",
      "File \u001b[1;32mc:\\Users\\soyel\\miniconda3\\envs\\cryptobot\\lib\\site-packages\\urllib3\\connectionpool.py:449\u001b[0m, in \u001b[0;36mHTTPConnectionPool._make_request\u001b[1;34m(self, conn, method, url, timeout, chunked, **httplib_request_kw)\u001b[0m\n\u001b[0;32m    <a href='file:///c%3A/Users/soyel/miniconda3/envs/cryptobot/lib/site-packages/urllib3/connectionpool.py?line=443'>444</a>\u001b[0m             httplib_response \u001b[39m=\u001b[39m conn\u001b[39m.\u001b[39mgetresponse()\n\u001b[0;32m    <a href='file:///c%3A/Users/soyel/miniconda3/envs/cryptobot/lib/site-packages/urllib3/connectionpool.py?line=444'>445</a>\u001b[0m         \u001b[39mexcept\u001b[39;00m \u001b[39mBaseException\u001b[39;00m \u001b[39mas\u001b[39;00m e:\n\u001b[0;32m    <a href='file:///c%3A/Users/soyel/miniconda3/envs/cryptobot/lib/site-packages/urllib3/connectionpool.py?line=445'>446</a>\u001b[0m             \u001b[39m# Remove the TypeError from the exception chain in\u001b[39;00m\n\u001b[0;32m    <a href='file:///c%3A/Users/soyel/miniconda3/envs/cryptobot/lib/site-packages/urllib3/connectionpool.py?line=446'>447</a>\u001b[0m             \u001b[39m# Python 3 (including for exceptions like SystemExit).\u001b[39;00m\n\u001b[0;32m    <a href='file:///c%3A/Users/soyel/miniconda3/envs/cryptobot/lib/site-packages/urllib3/connectionpool.py?line=447'>448</a>\u001b[0m             \u001b[39m# Otherwise it looks like a bug in the code.\u001b[39;00m\n\u001b[1;32m--> <a href='file:///c%3A/Users/soyel/miniconda3/envs/cryptobot/lib/site-packages/urllib3/connectionpool.py?line=448'>449</a>\u001b[0m             six\u001b[39m.\u001b[39;49mraise_from(e, \u001b[39mNone\u001b[39;49;00m)\n\u001b[0;32m    <a href='file:///c%3A/Users/soyel/miniconda3/envs/cryptobot/lib/site-packages/urllib3/connectionpool.py?line=449'>450</a>\u001b[0m \u001b[39mexcept\u001b[39;00m (SocketTimeout, BaseSSLError, SocketError) \u001b[39mas\u001b[39;00m e:\n\u001b[0;32m    <a href='file:///c%3A/Users/soyel/miniconda3/envs/cryptobot/lib/site-packages/urllib3/connectionpool.py?line=450'>451</a>\u001b[0m     \u001b[39mself\u001b[39m\u001b[39m.\u001b[39m_raise_timeout(err\u001b[39m=\u001b[39me, url\u001b[39m=\u001b[39murl, timeout_value\u001b[39m=\u001b[39mread_timeout)\n",
      "File \u001b[1;32m<string>:3\u001b[0m, in \u001b[0;36mraise_from\u001b[1;34m(value, from_value)\u001b[0m\n",
      "File \u001b[1;32mc:\\Users\\soyel\\miniconda3\\envs\\cryptobot\\lib\\site-packages\\urllib3\\connectionpool.py:444\u001b[0m, in \u001b[0;36mHTTPConnectionPool._make_request\u001b[1;34m(self, conn, method, url, timeout, chunked, **httplib_request_kw)\u001b[0m\n\u001b[0;32m    <a href='file:///c%3A/Users/soyel/miniconda3/envs/cryptobot/lib/site-packages/urllib3/connectionpool.py?line=440'>441</a>\u001b[0m \u001b[39mexcept\u001b[39;00m \u001b[39mTypeError\u001b[39;00m:\n\u001b[0;32m    <a href='file:///c%3A/Users/soyel/miniconda3/envs/cryptobot/lib/site-packages/urllib3/connectionpool.py?line=441'>442</a>\u001b[0m     \u001b[39m# Python 3\u001b[39;00m\n\u001b[0;32m    <a href='file:///c%3A/Users/soyel/miniconda3/envs/cryptobot/lib/site-packages/urllib3/connectionpool.py?line=442'>443</a>\u001b[0m     \u001b[39mtry\u001b[39;00m:\n\u001b[1;32m--> <a href='file:///c%3A/Users/soyel/miniconda3/envs/cryptobot/lib/site-packages/urllib3/connectionpool.py?line=443'>444</a>\u001b[0m         httplib_response \u001b[39m=\u001b[39m conn\u001b[39m.\u001b[39;49mgetresponse()\n\u001b[0;32m    <a href='file:///c%3A/Users/soyel/miniconda3/envs/cryptobot/lib/site-packages/urllib3/connectionpool.py?line=444'>445</a>\u001b[0m     \u001b[39mexcept\u001b[39;00m \u001b[39mBaseException\u001b[39;00m \u001b[39mas\u001b[39;00m e:\n\u001b[0;32m    <a href='file:///c%3A/Users/soyel/miniconda3/envs/cryptobot/lib/site-packages/urllib3/connectionpool.py?line=445'>446</a>\u001b[0m         \u001b[39m# Remove the TypeError from the exception chain in\u001b[39;00m\n\u001b[0;32m    <a href='file:///c%3A/Users/soyel/miniconda3/envs/cryptobot/lib/site-packages/urllib3/connectionpool.py?line=446'>447</a>\u001b[0m         \u001b[39m# Python 3 (including for exceptions like SystemExit).\u001b[39;00m\n\u001b[0;32m    <a href='file:///c%3A/Users/soyel/miniconda3/envs/cryptobot/lib/site-packages/urllib3/connectionpool.py?line=447'>448</a>\u001b[0m         \u001b[39m# Otherwise it looks like a bug in the code.\u001b[39;00m\n\u001b[0;32m    <a href='file:///c%3A/Users/soyel/miniconda3/envs/cryptobot/lib/site-packages/urllib3/connectionpool.py?line=448'>449</a>\u001b[0m         six\u001b[39m.\u001b[39mraise_from(e, \u001b[39mNone\u001b[39;00m)\n",
      "File \u001b[1;32mc:\\Users\\soyel\\miniconda3\\envs\\cryptobot\\lib\\http\\client.py:1377\u001b[0m, in \u001b[0;36mHTTPConnection.getresponse\u001b[1;34m(self)\u001b[0m\n\u001b[0;32m   <a href='file:///c%3A/Users/soyel/miniconda3/envs/cryptobot/lib/http/client.py?line=1374'>1375</a>\u001b[0m \u001b[39mtry\u001b[39;00m:\n\u001b[0;32m   <a href='file:///c%3A/Users/soyel/miniconda3/envs/cryptobot/lib/http/client.py?line=1375'>1376</a>\u001b[0m     \u001b[39mtry\u001b[39;00m:\n\u001b[1;32m-> <a href='file:///c%3A/Users/soyel/miniconda3/envs/cryptobot/lib/http/client.py?line=1376'>1377</a>\u001b[0m         response\u001b[39m.\u001b[39;49mbegin()\n\u001b[0;32m   <a href='file:///c%3A/Users/soyel/miniconda3/envs/cryptobot/lib/http/client.py?line=1377'>1378</a>\u001b[0m     \u001b[39mexcept\u001b[39;00m \u001b[39mConnectionError\u001b[39;00m:\n\u001b[0;32m   <a href='file:///c%3A/Users/soyel/miniconda3/envs/cryptobot/lib/http/client.py?line=1378'>1379</a>\u001b[0m         \u001b[39mself\u001b[39m\u001b[39m.\u001b[39mclose()\n",
      "File \u001b[1;32mc:\\Users\\soyel\\miniconda3\\envs\\cryptobot\\lib\\http\\client.py:320\u001b[0m, in \u001b[0;36mHTTPResponse.begin\u001b[1;34m(self)\u001b[0m\n\u001b[0;32m    <a href='file:///c%3A/Users/soyel/miniconda3/envs/cryptobot/lib/http/client.py?line=317'>318</a>\u001b[0m \u001b[39m# read until we get a non-100 response\u001b[39;00m\n\u001b[0;32m    <a href='file:///c%3A/Users/soyel/miniconda3/envs/cryptobot/lib/http/client.py?line=318'>319</a>\u001b[0m \u001b[39mwhile\u001b[39;00m \u001b[39mTrue\u001b[39;00m:\n\u001b[1;32m--> <a href='file:///c%3A/Users/soyel/miniconda3/envs/cryptobot/lib/http/client.py?line=319'>320</a>\u001b[0m     version, status, reason \u001b[39m=\u001b[39m \u001b[39mself\u001b[39;49m\u001b[39m.\u001b[39;49m_read_status()\n\u001b[0;32m    <a href='file:///c%3A/Users/soyel/miniconda3/envs/cryptobot/lib/http/client.py?line=320'>321</a>\u001b[0m     \u001b[39mif\u001b[39;00m status \u001b[39m!=\u001b[39m CONTINUE:\n\u001b[0;32m    <a href='file:///c%3A/Users/soyel/miniconda3/envs/cryptobot/lib/http/client.py?line=321'>322</a>\u001b[0m         \u001b[39mbreak\u001b[39;00m\n",
      "File \u001b[1;32mc:\\Users\\soyel\\miniconda3\\envs\\cryptobot\\lib\\http\\client.py:281\u001b[0m, in \u001b[0;36mHTTPResponse._read_status\u001b[1;34m(self)\u001b[0m\n\u001b[0;32m    <a href='file:///c%3A/Users/soyel/miniconda3/envs/cryptobot/lib/http/client.py?line=279'>280</a>\u001b[0m \u001b[39mdef\u001b[39;00m \u001b[39m_read_status\u001b[39m(\u001b[39mself\u001b[39m):\n\u001b[1;32m--> <a href='file:///c%3A/Users/soyel/miniconda3/envs/cryptobot/lib/http/client.py?line=280'>281</a>\u001b[0m     line \u001b[39m=\u001b[39m \u001b[39mstr\u001b[39m(\u001b[39mself\u001b[39;49m\u001b[39m.\u001b[39;49mfp\u001b[39m.\u001b[39;49mreadline(_MAXLINE \u001b[39m+\u001b[39;49m \u001b[39m1\u001b[39;49m), \u001b[39m\"\u001b[39m\u001b[39miso-8859-1\u001b[39m\u001b[39m\"\u001b[39m)\n\u001b[0;32m    <a href='file:///c%3A/Users/soyel/miniconda3/envs/cryptobot/lib/http/client.py?line=281'>282</a>\u001b[0m     \u001b[39mif\u001b[39;00m \u001b[39mlen\u001b[39m(line) \u001b[39m>\u001b[39m _MAXLINE:\n\u001b[0;32m    <a href='file:///c%3A/Users/soyel/miniconda3/envs/cryptobot/lib/http/client.py?line=282'>283</a>\u001b[0m         \u001b[39mraise\u001b[39;00m LineTooLong(\u001b[39m\"\u001b[39m\u001b[39mstatus line\u001b[39m\u001b[39m\"\u001b[39m)\n",
      "File \u001b[1;32mc:\\Users\\soyel\\miniconda3\\envs\\cryptobot\\lib\\socket.py:704\u001b[0m, in \u001b[0;36mSocketIO.readinto\u001b[1;34m(self, b)\u001b[0m\n\u001b[0;32m    <a href='file:///c%3A/Users/soyel/miniconda3/envs/cryptobot/lib/socket.py?line=701'>702</a>\u001b[0m \u001b[39mwhile\u001b[39;00m \u001b[39mTrue\u001b[39;00m:\n\u001b[0;32m    <a href='file:///c%3A/Users/soyel/miniconda3/envs/cryptobot/lib/socket.py?line=702'>703</a>\u001b[0m     \u001b[39mtry\u001b[39;00m:\n\u001b[1;32m--> <a href='file:///c%3A/Users/soyel/miniconda3/envs/cryptobot/lib/socket.py?line=703'>704</a>\u001b[0m         \u001b[39mreturn\u001b[39;00m \u001b[39mself\u001b[39;49m\u001b[39m.\u001b[39;49m_sock\u001b[39m.\u001b[39;49mrecv_into(b)\n\u001b[0;32m    <a href='file:///c%3A/Users/soyel/miniconda3/envs/cryptobot/lib/socket.py?line=704'>705</a>\u001b[0m     \u001b[39mexcept\u001b[39;00m timeout:\n\u001b[0;32m    <a href='file:///c%3A/Users/soyel/miniconda3/envs/cryptobot/lib/socket.py?line=705'>706</a>\u001b[0m         \u001b[39mself\u001b[39m\u001b[39m.\u001b[39m_timeout_occurred \u001b[39m=\u001b[39m \u001b[39mTrue\u001b[39;00m\n",
      "File \u001b[1;32mc:\\Users\\soyel\\miniconda3\\envs\\cryptobot\\lib\\ssl.py:1241\u001b[0m, in \u001b[0;36mSSLSocket.recv_into\u001b[1;34m(self, buffer, nbytes, flags)\u001b[0m\n\u001b[0;32m   <a href='file:///c%3A/Users/soyel/miniconda3/envs/cryptobot/lib/ssl.py?line=1236'>1237</a>\u001b[0m     \u001b[39mif\u001b[39;00m flags \u001b[39m!=\u001b[39m \u001b[39m0\u001b[39m:\n\u001b[0;32m   <a href='file:///c%3A/Users/soyel/miniconda3/envs/cryptobot/lib/ssl.py?line=1237'>1238</a>\u001b[0m         \u001b[39mraise\u001b[39;00m \u001b[39mValueError\u001b[39;00m(\n\u001b[0;32m   <a href='file:///c%3A/Users/soyel/miniconda3/envs/cryptobot/lib/ssl.py?line=1238'>1239</a>\u001b[0m           \u001b[39m\"\u001b[39m\u001b[39mnon-zero flags not allowed in calls to recv_into() on \u001b[39m\u001b[39m%s\u001b[39;00m\u001b[39m\"\u001b[39m \u001b[39m%\u001b[39m\n\u001b[0;32m   <a href='file:///c%3A/Users/soyel/miniconda3/envs/cryptobot/lib/ssl.py?line=1239'>1240</a>\u001b[0m           \u001b[39mself\u001b[39m\u001b[39m.\u001b[39m\u001b[39m__class__\u001b[39m)\n\u001b[1;32m-> <a href='file:///c%3A/Users/soyel/miniconda3/envs/cryptobot/lib/ssl.py?line=1240'>1241</a>\u001b[0m     \u001b[39mreturn\u001b[39;00m \u001b[39mself\u001b[39;49m\u001b[39m.\u001b[39;49mread(nbytes, buffer)\n\u001b[0;32m   <a href='file:///c%3A/Users/soyel/miniconda3/envs/cryptobot/lib/ssl.py?line=1241'>1242</a>\u001b[0m \u001b[39melse\u001b[39;00m:\n\u001b[0;32m   <a href='file:///c%3A/Users/soyel/miniconda3/envs/cryptobot/lib/ssl.py?line=1242'>1243</a>\u001b[0m     \u001b[39mreturn\u001b[39;00m \u001b[39msuper\u001b[39m()\u001b[39m.\u001b[39mrecv_into(buffer, nbytes, flags)\n",
      "File \u001b[1;32mc:\\Users\\soyel\\miniconda3\\envs\\cryptobot\\lib\\ssl.py:1099\u001b[0m, in \u001b[0;36mSSLSocket.read\u001b[1;34m(self, len, buffer)\u001b[0m\n\u001b[0;32m   <a href='file:///c%3A/Users/soyel/miniconda3/envs/cryptobot/lib/ssl.py?line=1096'>1097</a>\u001b[0m \u001b[39mtry\u001b[39;00m:\n\u001b[0;32m   <a href='file:///c%3A/Users/soyel/miniconda3/envs/cryptobot/lib/ssl.py?line=1097'>1098</a>\u001b[0m     \u001b[39mif\u001b[39;00m buffer \u001b[39mis\u001b[39;00m \u001b[39mnot\u001b[39;00m \u001b[39mNone\u001b[39;00m:\n\u001b[1;32m-> <a href='file:///c%3A/Users/soyel/miniconda3/envs/cryptobot/lib/ssl.py?line=1098'>1099</a>\u001b[0m         \u001b[39mreturn\u001b[39;00m \u001b[39mself\u001b[39;49m\u001b[39m.\u001b[39;49m_sslobj\u001b[39m.\u001b[39;49mread(\u001b[39mlen\u001b[39;49m, buffer)\n\u001b[0;32m   <a href='file:///c%3A/Users/soyel/miniconda3/envs/cryptobot/lib/ssl.py?line=1099'>1100</a>\u001b[0m     \u001b[39melse\u001b[39;00m:\n\u001b[0;32m   <a href='file:///c%3A/Users/soyel/miniconda3/envs/cryptobot/lib/ssl.py?line=1100'>1101</a>\u001b[0m         \u001b[39mreturn\u001b[39;00m \u001b[39mself\u001b[39m\u001b[39m.\u001b[39m_sslobj\u001b[39m.\u001b[39mread(\u001b[39mlen\u001b[39m)\n",
      "\u001b[1;31mKeyboardInterrupt\u001b[0m: "
     ]
    }
   ],
   "source": [
    "# brokerage commission from API included in price @ check bbs or sbb strategies\n",
    "verbose = False\n",
    "INVESTMENT_AMOUNT_DOLLARS = 100\n",
    "MIN_PROFIT_percentage = 0.01\n",
    "#BROKERAGE_PER_TRANSACTION_PERCENT = 0.2 ## taken from marketFeesDF\n",
    "\n",
    "while(True):\n",
    "    for combination in wx_combinations_usdt:\n",
    "\n",
    "        base = combination['base']\n",
    "        intermediate = combination['intermediate']\n",
    "        ticker = combination['ticker']\n",
    "        combination_ID = '/'.join([base, intermediate, ticker]) # Eg: \"USDT/BTC/ETH\"\n",
    "\n",
    "        s1 = f'{intermediate}/{base}'    # Eg: BTC/USDT\n",
    "        s2 = f'{ticker}/{intermediate}'  # Eg: ETH/BTC\n",
    "        s3 = f'{ticker}/{base}'          # Eg: ETH/USDT\n",
    "                \n",
    "        # check request limits and sleep if exceed\n",
    "        checkLimits(verbose=verbose)\n",
    "\n",
    "        # Check triangular arbitrage for buy-buy-sell \n",
    "        bbs = perform_triangular_arbitrage(s1,s2,s3,'BUY_BUY_SELL',INVESTMENT_AMOUNT_DOLLARS, MIN_PROFIT_percentage)\n",
    "\n",
    "        #if not bbs == None:\n",
    "        with open(f'output\\TriBot_output_{dt.datetime.today().date().strftime(\"%d%m%Y\")}.csv', 'a') as f:\n",
    "            f.write(combination_ID+','+bbs+'\\n')\n",
    "\n",
    "        # check request limits\n",
    "        checkLimits(verbose= True)\n",
    "\n",
    "        # Check triangular arbitrage for buy-sell-sell \n",
    "        bss = perform_triangular_arbitrage(s3,s2,s1,'BUY_SELL_SELL',INVESTMENT_AMOUNT_DOLLARS, MIN_PROFIT_percentage)\n",
    "        #if not bss == None:\n",
    "        with open(f'output\\TriBot_output_{dt.datetime.today().date().strftime(\"%d%m%Y\")}.csv', 'a') as f:\n",
    "            f.write(combination_ID+','+bss+'\\n')"
   ]
  },
  {
   "cell_type": "code",
   "execution_count": null,
   "id": "b9a457c8",
   "metadata": {},
   "outputs": [],
   "source": []
  }
 ],
 "metadata": {
  "interpreter": {
   "hash": "8ad28f2c1a0c112e0b975621d9a01213cf9ae433227f24bc93a5152db88d90e1"
  },
  "kernelspec": {
   "display_name": "Python 3.9.12 ('cryptobot')",
   "language": "python",
   "name": "python3"
  },
  "language_info": {
   "codemirror_mode": {
    "name": "ipython",
    "version": 3
   },
   "file_extension": ".py",
   "mimetype": "text/x-python",
   "name": "python",
   "nbconvert_exporter": "python",
   "pygments_lexer": "ipython3",
   "version": "3.9.12"
  },
  "toc": {
   "base_numbering": 1,
   "nav_menu": {},
   "number_sections": true,
   "sideBar": true,
   "skip_h1_title": false,
   "title_cell": "Table of Contents",
   "title_sidebar": "Contents",
   "toc_cell": false,
   "toc_position": {},
   "toc_section_display": true,
   "toc_window_display": true
  }
 },
 "nbformat": 4,
 "nbformat_minor": 5
}

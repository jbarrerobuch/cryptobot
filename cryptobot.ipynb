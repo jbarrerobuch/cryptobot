{
 "cells": [
  {
   "cell_type": "code",
   "execution_count": 3,
   "metadata": {},
   "outputs": [],
   "source": [
    "import ccxt\n",
    "import myconfig\n",
    "exchange = ccxt.binance({\n",
    "                         'apiKey': myconfig.API_KEY,\n",
    "                         'secret': myconfig.API_SECRET\n",
    "                       })"
   ]
  },
  {
   "cell_type": "code",
   "execution_count": 11,
   "metadata": {},
   "outputs": [],
   "source": [
    "markets = exchange.fetchMarkets()"
   ]
  },
  {
   "cell_type": "code",
   "execution_count": 13,
   "metadata": {},
   "outputs": [
    {
     "data": {
      "text/plain": [
       "'ETH'"
      ]
     },
     "execution_count": 13,
     "metadata": {},
     "output_type": "execute_result"
    }
   ],
   "source": [
    "markets[0]['base']"
   ]
  },
  {
   "cell_type": "code",
   "execution_count": 14,
   "metadata": {},
   "outputs": [],
   "source": [
    "market_symbols = [market['symbol'] for market in markets]"
   ]
  },
  {
   "cell_type": "code",
   "execution_count": 15,
   "metadata": {},
   "outputs": [],
   "source": [
    "def get_crypto_combinations(market_symbols, base):\n",
    "    combinations = []\n",
    "    for sym1 in market_symbols:   \n",
    "        sym1_token1 = sym1.split('/')[0]\n",
    "        sym1_token2 = sym1.split('/')[1]   \n",
    "        if (sym1_token2 == base):\n",
    "            for sym2 in market_symbols:\n",
    "                sym2_token1 = sym2.split('/')[0]\n",
    "                sym2_token2 = sym2.split('/')[1]\n",
    "                if (sym1_token1 == sym2_token2):\n",
    "                    for sym3 in market_symbols:\n",
    "                        sym3_token1 = sym3.split('/')[0]\n",
    "                        sym3_token2 = sym3.split('/')[1]\n",
    "                        if((sym2_token1 == sym3_token1) and (sym3_token2 == sym1_token2)):\n",
    "                            combination = {\n",
    "                                'base':sym1_token2,\n",
    "                                'intermediate':sym1_token1,\n",
    "                                'ticker':sym2_token1,\n",
    "                            }\n",
    "                            combinations.append(combination)\n",
    "    return combinations\n",
    "        \n",
    "wx_combinations_usdt = get_crypto_combinations(market_symbols,'USDT')"
   ]
  },
  {
   "cell_type": "code",
   "execution_count": 17,
   "metadata": {},
   "outputs": [
    {
     "data": {
      "text/plain": [
       "1224"
      ]
     },
     "execution_count": 17,
     "metadata": {},
     "output_type": "execute_result"
    }
   ],
   "source": [
    "len(wx_combinations_usdt)"
   ]
  },
  {
   "cell_type": "code",
   "execution_count": null,
   "metadata": {},
   "outputs": [],
   "source": [
    "def check_buy_buy_sell(scrip1, scrip2, scrip3,initial_investment):\n",
    "    \n",
    "    ## SCRIP1\n",
    "    investment_amount1 = initial_investment\n",
    "    current_price1 = fetch_current_ticker_price(scrip1)\n",
    "    final_price = 0\n",
    "    scrip_prices = {}\n",
    "    \n",
    "    if current_price1 is not None:\n",
    "        buy_quantity1 = round(investment_amount1 / current_price1, 8)\n",
    "        time.sleep(1)\n",
    "        ## SCRIP2\n",
    "        investment_amount2 = buy_quantity1     \n",
    "        current_price2 = fetch_current_ticker_price(scrip2)\n",
    "        if current_price2 is not None:\n",
    "            buy_quantity2 = round(investment_amount2 / current_price2, 8)\n",
    "            time.sleep(1)\n",
    "            ## SCRIP3\n",
    "            investment_amount3 = buy_quantity2     \n",
    "            current_price3 = fetch_current_ticker_price(scrip3)\n",
    "            if current_price3 is not None:\n",
    "                sell_quantity3 = buy_quantity2\n",
    "                final_price = round(sell_quantity3 * current_price3,3)\n",
    "                scrip_prices = {scrip1 : current_price1, scrip2 : current_price2, scrip3 : current_price3}\n",
    "                \n",
    "    return final_price, scrip_prices"
   ]
  }
 ],
 "metadata": {
  "interpreter": {
   "hash": "0fb532f8eff6ca201608aaa817322cd920d7e77bdd5987440d87c5e8efe11513"
  },
  "kernelspec": {
   "display_name": "Python 3.9.12 ('cryptobot')",
   "language": "python",
   "name": "python3"
  },
  "language_info": {
   "codemirror_mode": {
    "name": "ipython",
    "version": 3
   },
   "file_extension": ".py",
   "mimetype": "text/x-python",
   "name": "python",
   "nbconvert_exporter": "python",
   "pygments_lexer": "ipython3",
   "version": "3.9.12"
  },
  "orig_nbformat": 4
 },
 "nbformat": 4,
 "nbformat_minor": 2
}
